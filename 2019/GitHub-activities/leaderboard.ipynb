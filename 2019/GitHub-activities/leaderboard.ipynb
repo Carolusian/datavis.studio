{
 "cells": [
  {
   "cell_type": "markdown",
   "metadata": {},
   "source": [
    "# Leader board\n",
    "\n",
    "The leader board of student activities of JOUR2106"
   ]
  },
  {
   "cell_type": "code",
   "execution_count": 1,
   "metadata": {},
   "outputs": [],
   "source": [
    "import pandas as pd\n",
    "import matplotlib\n",
    "%matplotlib inline"
   ]
  },
  {
   "cell_type": "code",
   "execution_count": 2,
   "metadata": {},
   "outputs": [],
   "source": [
    "#!pip install matplotlib"
   ]
  },
  {
   "cell_type": "markdown",
   "metadata": {},
   "source": [
    "## Basic checkup"
   ]
  },
  {
   "cell_type": "code",
   "execution_count": 3,
   "metadata": {},
   "outputs": [],
   "source": [
    "df = pd.read_csv('data/user-contributions.csv')"
   ]
  },
  {
   "cell_type": "code",
   "execution_count": 4,
   "metadata": {},
   "outputs": [
    {
     "data": {
      "text/plain": [
       "3350"
      ]
     },
     "execution_count": 4,
     "metadata": {},
     "output_type": "execute_result"
    }
   ],
   "source": [
    "len(df)"
   ]
  },
  {
   "cell_type": "code",
   "execution_count": 5,
   "metadata": {},
   "outputs": [
    {
     "data": {
      "text/plain": [
       "Index(['data-count', 'data-date', 'url'], dtype='object')"
      ]
     },
     "execution_count": 5,
     "metadata": {},
     "output_type": "execute_result"
    }
   ],
   "source": [
    "df.columns"
   ]
  },
  {
   "cell_type": "code",
   "execution_count": 6,
   "metadata": {},
   "outputs": [
    {
     "data": {
      "text/html": [
       "<div>\n",
       "<style scoped>\n",
       "    .dataframe tbody tr th:only-of-type {\n",
       "        vertical-align: middle;\n",
       "    }\n",
       "\n",
       "    .dataframe tbody tr th {\n",
       "        vertical-align: top;\n",
       "    }\n",
       "\n",
       "    .dataframe thead th {\n",
       "        text-align: right;\n",
       "    }\n",
       "</style>\n",
       "<table border=\"1\" class=\"dataframe\">\n",
       "  <thead>\n",
       "    <tr style=\"text-align: right;\">\n",
       "      <th></th>\n",
       "      <th>data-count</th>\n",
       "      <th>data-date</th>\n",
       "      <th>url</th>\n",
       "    </tr>\n",
       "  </thead>\n",
       "  <tbody>\n",
       "    <tr>\n",
       "      <th>0</th>\n",
       "      <td>0</td>\n",
       "      <td>2019-01-08</td>\n",
       "      <td>https://github.com/angiecwl</td>\n",
       "    </tr>\n",
       "    <tr>\n",
       "      <th>1</th>\n",
       "      <td>0</td>\n",
       "      <td>2019-01-09</td>\n",
       "      <td>https://github.com/angiecwl</td>\n",
       "    </tr>\n",
       "    <tr>\n",
       "      <th>2</th>\n",
       "      <td>0</td>\n",
       "      <td>2019-01-10</td>\n",
       "      <td>https://github.com/angiecwl</td>\n",
       "    </tr>\n",
       "    <tr>\n",
       "      <th>3</th>\n",
       "      <td>0</td>\n",
       "      <td>2019-01-11</td>\n",
       "      <td>https://github.com/angiecwl</td>\n",
       "    </tr>\n",
       "    <tr>\n",
       "      <th>4</th>\n",
       "      <td>0</td>\n",
       "      <td>2019-01-12</td>\n",
       "      <td>https://github.com/angiecwl</td>\n",
       "    </tr>\n",
       "  </tbody>\n",
       "</table>\n",
       "</div>"
      ],
      "text/plain": [
       "   data-count   data-date                          url\n",
       "0           0  2019-01-08  https://github.com/angiecwl\n",
       "1           0  2019-01-09  https://github.com/angiecwl\n",
       "2           0  2019-01-10  https://github.com/angiecwl\n",
       "3           0  2019-01-11  https://github.com/angiecwl\n",
       "4           0  2019-01-12  https://github.com/angiecwl"
      ]
     },
     "execution_count": 6,
     "metadata": {},
     "output_type": "execute_result"
    }
   ],
   "source": [
    "df.head()"
   ]
  },
  {
   "cell_type": "code",
   "execution_count": 7,
   "metadata": {},
   "outputs": [
    {
     "data": {
      "text/html": [
       "<div>\n",
       "<style scoped>\n",
       "    .dataframe tbody tr th:only-of-type {\n",
       "        vertical-align: middle;\n",
       "    }\n",
       "\n",
       "    .dataframe tbody tr th {\n",
       "        vertical-align: top;\n",
       "    }\n",
       "\n",
       "    .dataframe thead th {\n",
       "        text-align: right;\n",
       "    }\n",
       "</style>\n",
       "<table border=\"1\" class=\"dataframe\">\n",
       "  <thead>\n",
       "    <tr style=\"text-align: right;\">\n",
       "      <th></th>\n",
       "      <th>data-count</th>\n",
       "      <th>data-date</th>\n",
       "      <th>url</th>\n",
       "    </tr>\n",
       "  </thead>\n",
       "  <tbody>\n",
       "    <tr>\n",
       "      <th>3345</th>\n",
       "      <td>0</td>\n",
       "      <td>2019-05-17</td>\n",
       "      <td>https://github.com/hupili</td>\n",
       "    </tr>\n",
       "    <tr>\n",
       "      <th>3346</th>\n",
       "      <td>0</td>\n",
       "      <td>2019-05-18</td>\n",
       "      <td>https://github.com/hupili</td>\n",
       "    </tr>\n",
       "    <tr>\n",
       "      <th>3347</th>\n",
       "      <td>4</td>\n",
       "      <td>2019-05-19</td>\n",
       "      <td>https://github.com/hupili</td>\n",
       "    </tr>\n",
       "    <tr>\n",
       "      <th>3348</th>\n",
       "      <td>0</td>\n",
       "      <td>2019-05-20</td>\n",
       "      <td>https://github.com/hupili</td>\n",
       "    </tr>\n",
       "    <tr>\n",
       "      <th>3349</th>\n",
       "      <td>0</td>\n",
       "      <td>2019-05-21</td>\n",
       "      <td>https://github.com/hupili</td>\n",
       "    </tr>\n",
       "  </tbody>\n",
       "</table>\n",
       "</div>"
      ],
      "text/plain": [
       "      data-count   data-date                        url\n",
       "3345           0  2019-05-17  https://github.com/hupili\n",
       "3346           0  2019-05-18  https://github.com/hupili\n",
       "3347           4  2019-05-19  https://github.com/hupili\n",
       "3348           0  2019-05-20  https://github.com/hupili\n",
       "3349           0  2019-05-21  https://github.com/hupili"
      ]
     },
     "execution_count": 7,
     "metadata": {},
     "output_type": "execute_result"
    }
   ],
   "source": [
    "df.tail()"
   ]
  },
  {
   "cell_type": "code",
   "execution_count": 8,
   "metadata": {},
   "outputs": [
    {
     "data": {
      "text/plain": [
       "dtype('int64')"
      ]
     },
     "execution_count": 8,
     "metadata": {},
     "output_type": "execute_result"
    }
   ],
   "source": [
    "df['data-count'].dtype"
   ]
  },
  {
   "cell_type": "code",
   "execution_count": 9,
   "metadata": {},
   "outputs": [
    {
     "data": {
      "text/plain": [
       "dtype('O')"
      ]
     },
     "execution_count": 9,
     "metadata": {},
     "output_type": "execute_result"
    }
   ],
   "source": [
    "df['data-date'].dtype"
   ]
  },
  {
   "cell_type": "code",
   "execution_count": 10,
   "metadata": {},
   "outputs": [
    {
     "data": {
      "text/plain": [
       "dtype('O')"
      ]
     },
     "execution_count": 10,
     "metadata": {},
     "output_type": "execute_result"
    }
   ],
   "source": [
    "df['url'].dtype"
   ]
  },
  {
   "cell_type": "markdown",
   "metadata": {},
   "source": [
    "## Time Series"
   ]
  },
  {
   "cell_type": "code",
   "execution_count": 11,
   "metadata": {},
   "outputs": [],
   "source": [
    "from dateutil.parser import parse"
   ]
  },
  {
   "cell_type": "code",
   "execution_count": 12,
   "metadata": {},
   "outputs": [
    {
     "data": {
      "text/plain": [
       "<function dateutil.parser._parser.parse(timestr, parserinfo=None, **kwargs)>"
      ]
     },
     "execution_count": 12,
     "metadata": {},
     "output_type": "execute_result"
    }
   ],
   "source": [
    "parse"
   ]
  },
  {
   "cell_type": "code",
   "execution_count": 13,
   "metadata": {},
   "outputs": [
    {
     "data": {
      "text/plain": [
       "str"
      ]
     },
     "execution_count": 13,
     "metadata": {},
     "output_type": "execute_result"
    }
   ],
   "source": [
    "type(df['data-date'][0])"
   ]
  },
  {
   "cell_type": "code",
   "execution_count": 14,
   "metadata": {},
   "outputs": [
    {
     "data": {
      "text/plain": [
       "datetime.datetime(2019, 1, 8, 0, 0)"
      ]
     },
     "execution_count": 14,
     "metadata": {},
     "output_type": "execute_result"
    }
   ],
   "source": [
    "parse(df['data-date'][0])"
   ]
  },
  {
   "cell_type": "code",
   "execution_count": 15,
   "metadata": {},
   "outputs": [],
   "source": [
    "df['datetime'] = df['data-date'].apply(parse)"
   ]
  },
  {
   "cell_type": "code",
   "execution_count": 16,
   "metadata": {},
   "outputs": [
    {
     "data": {
      "text/plain": [
       "str"
      ]
     },
     "execution_count": 16,
     "metadata": {},
     "output_type": "execute_result"
    }
   ],
   "source": [
    "type(df['data-date'][0])"
   ]
  },
  {
   "cell_type": "code",
   "execution_count": 17,
   "metadata": {},
   "outputs": [
    {
     "data": {
      "text/plain": [
       "pandas._libs.tslibs.timestamps.Timestamp"
      ]
     },
     "execution_count": 17,
     "metadata": {},
     "output_type": "execute_result"
    }
   ],
   "source": [
    "type(df['datetime'][0])"
   ]
  },
  {
   "cell_type": "code",
   "execution_count": 18,
   "metadata": {},
   "outputs": [],
   "source": [
    "# .groupby().aggregate()"
   ]
  },
  {
   "cell_type": "code",
   "execution_count": 19,
   "metadata": {},
   "outputs": [
    {
     "data": {
      "text/plain": [
       "<matplotlib.axes._subplots.AxesSubplot at 0x10e63c358>"
      ]
     },
     "execution_count": 19,
     "metadata": {},
     "output_type": "execute_result"
    },
    {
     "data": {
      "image/png": "[encoded data removed]",
      "text/plain": [
       "<Figure size 432x288 with 1 Axes>"
      ]
     },
     "metadata": {
      "needs_background": "light"
     },
     "output_type": "display_data"
    }
   ],
   "source": [
    "df.set_index('datetime').resample('1w').aggregate('sum').plot()"
   ]
  },
  {
   "cell_type": "code",
   "execution_count": 20,
   "metadata": {},
   "outputs": [
    {
     "data": {
      "text/html": [
       "<div>\n",
       "<style scoped>\n",
       "    .dataframe tbody tr th:only-of-type {\n",
       "        vertical-align: middle;\n",
       "    }\n",
       "\n",
       "    .dataframe tbody tr th {\n",
       "        vertical-align: top;\n",
       "    }\n",
       "\n",
       "    .dataframe thead th {\n",
       "        text-align: right;\n",
       "    }\n",
       "</style>\n",
       "<table border=\"1\" class=\"dataframe\">\n",
       "  <thead>\n",
       "    <tr style=\"text-align: right;\">\n",
       "      <th></th>\n",
       "      <th>data-count</th>\n",
       "      <th>data-date</th>\n",
       "      <th>url</th>\n",
       "      <th>datetime</th>\n",
       "    </tr>\n",
       "  </thead>\n",
       "  <tbody>\n",
       "    <tr>\n",
       "      <th>0</th>\n",
       "      <td>0</td>\n",
       "      <td>2019-01-08</td>\n",
       "      <td>https://github.com/angiecwl</td>\n",
       "      <td>2019-01-08</td>\n",
       "    </tr>\n",
       "    <tr>\n",
       "      <th>1</th>\n",
       "      <td>0</td>\n",
       "      <td>2019-01-09</td>\n",
       "      <td>https://github.com/angiecwl</td>\n",
       "      <td>2019-01-09</td>\n",
       "    </tr>\n",
       "    <tr>\n",
       "      <th>2</th>\n",
       "      <td>0</td>\n",
       "      <td>2019-01-10</td>\n",
       "      <td>https://github.com/angiecwl</td>\n",
       "      <td>2019-01-10</td>\n",
       "    </tr>\n",
       "    <tr>\n",
       "      <th>3</th>\n",
       "      <td>0</td>\n",
       "      <td>2019-01-11</td>\n",
       "      <td>https://github.com/angiecwl</td>\n",
       "      <td>2019-01-11</td>\n",
       "    </tr>\n",
       "    <tr>\n",
       "      <th>4</th>\n",
       "      <td>0</td>\n",
       "      <td>2019-01-12</td>\n",
       "      <td>https://github.com/angiecwl</td>\n",
       "      <td>2019-01-12</td>\n",
       "    </tr>\n",
       "    <tr>\n",
       "      <th>5</th>\n",
       "      <td>0</td>\n",
       "      <td>2019-01-13</td>\n",
       "      <td>https://github.com/angiecwl</td>\n",
       "      <td>2019-01-13</td>\n",
       "    </tr>\n",
       "    <tr>\n",
       "      <th>6</th>\n",
       "      <td>0</td>\n",
       "      <td>2019-01-14</td>\n",
       "      <td>https://github.com/angiecwl</td>\n",
       "      <td>2019-01-14</td>\n",
       "    </tr>\n",
       "    <tr>\n",
       "      <th>7</th>\n",
       "      <td>0</td>\n",
       "      <td>2019-01-15</td>\n",
       "      <td>https://github.com/angiecwl</td>\n",
       "      <td>2019-01-15</td>\n",
       "    </tr>\n",
       "    <tr>\n",
       "      <th>8</th>\n",
       "      <td>0</td>\n",
       "      <td>2019-01-16</td>\n",
       "      <td>https://github.com/angiecwl</td>\n",
       "      <td>2019-01-16</td>\n",
       "    </tr>\n",
       "    <tr>\n",
       "      <th>9</th>\n",
       "      <td>0</td>\n",
       "      <td>2019-01-17</td>\n",
       "      <td>https://github.com/angiecwl</td>\n",
       "      <td>2019-01-17</td>\n",
       "    </tr>\n",
       "    <tr>\n",
       "      <th>10</th>\n",
       "      <td>0</td>\n",
       "      <td>2019-01-18</td>\n",
       "      <td>https://github.com/angiecwl</td>\n",
       "      <td>2019-01-18</td>\n",
       "    </tr>\n",
       "    <tr>\n",
       "      <th>11</th>\n",
       "      <td>0</td>\n",
       "      <td>2019-01-19</td>\n",
       "      <td>https://github.com/angiecwl</td>\n",
       "      <td>2019-01-19</td>\n",
       "    </tr>\n",
       "    <tr>\n",
       "      <th>12</th>\n",
       "      <td>0</td>\n",
       "      <td>2019-01-20</td>\n",
       "      <td>https://github.com/angiecwl</td>\n",
       "      <td>2019-01-20</td>\n",
       "    </tr>\n",
       "    <tr>\n",
       "      <th>13</th>\n",
       "      <td>0</td>\n",
       "      <td>2019-01-21</td>\n",
       "      <td>https://github.com/angiecwl</td>\n",
       "      <td>2019-01-21</td>\n",
       "    </tr>\n",
       "    <tr>\n",
       "      <th>14</th>\n",
       "      <td>0</td>\n",
       "      <td>2019-01-22</td>\n",
       "      <td>https://github.com/angiecwl</td>\n",
       "      <td>2019-01-22</td>\n",
       "    </tr>\n",
       "    <tr>\n",
       "      <th>15</th>\n",
       "      <td>0</td>\n",
       "      <td>2019-01-23</td>\n",
       "      <td>https://github.com/angiecwl</td>\n",
       "      <td>2019-01-23</td>\n",
       "    </tr>\n",
       "    <tr>\n",
       "      <th>16</th>\n",
       "      <td>0</td>\n",
       "      <td>2019-01-24</td>\n",
       "      <td>https://github.com/angiecwl</td>\n",
       "      <td>2019-01-24</td>\n",
       "    </tr>\n",
       "    <tr>\n",
       "      <th>17</th>\n",
       "      <td>0</td>\n",
       "      <td>2019-01-25</td>\n",
       "      <td>https://github.com/angiecwl</td>\n",
       "      <td>2019-01-25</td>\n",
       "    </tr>\n",
       "    <tr>\n",
       "      <th>18</th>\n",
       "      <td>9</td>\n",
       "      <td>2019-01-26</td>\n",
       "      <td>https://github.com/angiecwl</td>\n",
       "      <td>2019-01-26</td>\n",
       "    </tr>\n",
       "    <tr>\n",
       "      <th>19</th>\n",
       "      <td>0</td>\n",
       "      <td>2019-01-27</td>\n",
       "      <td>https://github.com/angiecwl</td>\n",
       "      <td>2019-01-27</td>\n",
       "    </tr>\n",
       "    <tr>\n",
       "      <th>20</th>\n",
       "      <td>0</td>\n",
       "      <td>2019-01-28</td>\n",
       "      <td>https://github.com/angiecwl</td>\n",
       "      <td>2019-01-28</td>\n",
       "    </tr>\n",
       "    <tr>\n",
       "      <th>21</th>\n",
       "      <td>0</td>\n",
       "      <td>2019-01-29</td>\n",
       "      <td>https://github.com/angiecwl</td>\n",
       "      <td>2019-01-29</td>\n",
       "    </tr>\n",
       "    <tr>\n",
       "      <th>22</th>\n",
       "      <td>0</td>\n",
       "      <td>2019-01-30</td>\n",
       "      <td>https://github.com/angiecwl</td>\n",
       "      <td>2019-01-30</td>\n",
       "    </tr>\n",
       "    <tr>\n",
       "      <th>23</th>\n",
       "      <td>0</td>\n",
       "      <td>2019-01-31</td>\n",
       "      <td>https://github.com/angiecwl</td>\n",
       "      <td>2019-01-31</td>\n",
       "    </tr>\n",
       "    <tr>\n",
       "      <th>24</th>\n",
       "      <td>0</td>\n",
       "      <td>2019-02-01</td>\n",
       "      <td>https://github.com/angiecwl</td>\n",
       "      <td>2019-02-01</td>\n",
       "    </tr>\n",
       "    <tr>\n",
       "      <th>25</th>\n",
       "      <td>6</td>\n",
       "      <td>2019-02-02</td>\n",
       "      <td>https://github.com/angiecwl</td>\n",
       "      <td>2019-02-02</td>\n",
       "    </tr>\n",
       "    <tr>\n",
       "      <th>26</th>\n",
       "      <td>0</td>\n",
       "      <td>2019-02-03</td>\n",
       "      <td>https://github.com/angiecwl</td>\n",
       "      <td>2019-02-03</td>\n",
       "    </tr>\n",
       "    <tr>\n",
       "      <th>27</th>\n",
       "      <td>0</td>\n",
       "      <td>2019-02-04</td>\n",
       "      <td>https://github.com/angiecwl</td>\n",
       "      <td>2019-02-04</td>\n",
       "    </tr>\n",
       "    <tr>\n",
       "      <th>28</th>\n",
       "      <td>0</td>\n",
       "      <td>2019-02-05</td>\n",
       "      <td>https://github.com/angiecwl</td>\n",
       "      <td>2019-02-05</td>\n",
       "    </tr>\n",
       "    <tr>\n",
       "      <th>29</th>\n",
       "      <td>0</td>\n",
       "      <td>2019-02-06</td>\n",
       "      <td>https://github.com/angiecwl</td>\n",
       "      <td>2019-02-06</td>\n",
       "    </tr>\n",
       "    <tr>\n",
       "      <th>...</th>\n",
       "      <td>...</td>\n",
       "      <td>...</td>\n",
       "      <td>...</td>\n",
       "      <td>...</td>\n",
       "    </tr>\n",
       "    <tr>\n",
       "      <th>3320</th>\n",
       "      <td>0</td>\n",
       "      <td>2019-04-22</td>\n",
       "      <td>https://github.com/hupili</td>\n",
       "      <td>2019-04-22</td>\n",
       "    </tr>\n",
       "    <tr>\n",
       "      <th>3321</th>\n",
       "      <td>0</td>\n",
       "      <td>2019-04-23</td>\n",
       "      <td>https://github.com/hupili</td>\n",
       "      <td>2019-04-23</td>\n",
       "    </tr>\n",
       "    <tr>\n",
       "      <th>3322</th>\n",
       "      <td>0</td>\n",
       "      <td>2019-04-24</td>\n",
       "      <td>https://github.com/hupili</td>\n",
       "      <td>2019-04-24</td>\n",
       "    </tr>\n",
       "    <tr>\n",
       "      <th>3323</th>\n",
       "      <td>2</td>\n",
       "      <td>2019-04-25</td>\n",
       "      <td>https://github.com/hupili</td>\n",
       "      <td>2019-04-25</td>\n",
       "    </tr>\n",
       "    <tr>\n",
       "      <th>3324</th>\n",
       "      <td>2</td>\n",
       "      <td>2019-04-26</td>\n",
       "      <td>https://github.com/hupili</td>\n",
       "      <td>2019-04-26</td>\n",
       "    </tr>\n",
       "    <tr>\n",
       "      <th>3325</th>\n",
       "      <td>0</td>\n",
       "      <td>2019-04-27</td>\n",
       "      <td>https://github.com/hupili</td>\n",
       "      <td>2019-04-27</td>\n",
       "    </tr>\n",
       "    <tr>\n",
       "      <th>3326</th>\n",
       "      <td>4</td>\n",
       "      <td>2019-04-28</td>\n",
       "      <td>https://github.com/hupili</td>\n",
       "      <td>2019-04-28</td>\n",
       "    </tr>\n",
       "    <tr>\n",
       "      <th>3327</th>\n",
       "      <td>0</td>\n",
       "      <td>2019-04-29</td>\n",
       "      <td>https://github.com/hupili</td>\n",
       "      <td>2019-04-29</td>\n",
       "    </tr>\n",
       "    <tr>\n",
       "      <th>3328</th>\n",
       "      <td>0</td>\n",
       "      <td>2019-04-30</td>\n",
       "      <td>https://github.com/hupili</td>\n",
       "      <td>2019-04-30</td>\n",
       "    </tr>\n",
       "    <tr>\n",
       "      <th>3329</th>\n",
       "      <td>0</td>\n",
       "      <td>2019-05-01</td>\n",
       "      <td>https://github.com/hupili</td>\n",
       "      <td>2019-05-01</td>\n",
       "    </tr>\n",
       "    <tr>\n",
       "      <th>3330</th>\n",
       "      <td>0</td>\n",
       "      <td>2019-05-02</td>\n",
       "      <td>https://github.com/hupili</td>\n",
       "      <td>2019-05-02</td>\n",
       "    </tr>\n",
       "    <tr>\n",
       "      <th>3331</th>\n",
       "      <td>0</td>\n",
       "      <td>2019-05-03</td>\n",
       "      <td>https://github.com/hupili</td>\n",
       "      <td>2019-05-03</td>\n",
       "    </tr>\n",
       "    <tr>\n",
       "      <th>3332</th>\n",
       "      <td>0</td>\n",
       "      <td>2019-05-04</td>\n",
       "      <td>https://github.com/hupili</td>\n",
       "      <td>2019-05-04</td>\n",
       "    </tr>\n",
       "    <tr>\n",
       "      <th>3333</th>\n",
       "      <td>4</td>\n",
       "      <td>2019-05-05</td>\n",
       "      <td>https://github.com/hupili</td>\n",
       "      <td>2019-05-05</td>\n",
       "    </tr>\n",
       "    <tr>\n",
       "      <th>3334</th>\n",
       "      <td>0</td>\n",
       "      <td>2019-05-06</td>\n",
       "      <td>https://github.com/hupili</td>\n",
       "      <td>2019-05-06</td>\n",
       "    </tr>\n",
       "    <tr>\n",
       "      <th>3335</th>\n",
       "      <td>0</td>\n",
       "      <td>2019-05-07</td>\n",
       "      <td>https://github.com/hupili</td>\n",
       "      <td>2019-05-07</td>\n",
       "    </tr>\n",
       "    <tr>\n",
       "      <th>3336</th>\n",
       "      <td>0</td>\n",
       "      <td>2019-05-08</td>\n",
       "      <td>https://github.com/hupili</td>\n",
       "      <td>2019-05-08</td>\n",
       "    </tr>\n",
       "    <tr>\n",
       "      <th>3337</th>\n",
       "      <td>0</td>\n",
       "      <td>2019-05-09</td>\n",
       "      <td>https://github.com/hupili</td>\n",
       "      <td>2019-05-09</td>\n",
       "    </tr>\n",
       "    <tr>\n",
       "      <th>3338</th>\n",
       "      <td>0</td>\n",
       "      <td>2019-05-10</td>\n",
       "      <td>https://github.com/hupili</td>\n",
       "      <td>2019-05-10</td>\n",
       "    </tr>\n",
       "    <tr>\n",
       "      <th>3339</th>\n",
       "      <td>0</td>\n",
       "      <td>2019-05-11</td>\n",
       "      <td>https://github.com/hupili</td>\n",
       "      <td>2019-05-11</td>\n",
       "    </tr>\n",
       "    <tr>\n",
       "      <th>3340</th>\n",
       "      <td>8</td>\n",
       "      <td>2019-05-12</td>\n",
       "      <td>https://github.com/hupili</td>\n",
       "      <td>2019-05-12</td>\n",
       "    </tr>\n",
       "    <tr>\n",
       "      <th>3341</th>\n",
       "      <td>0</td>\n",
       "      <td>2019-05-13</td>\n",
       "      <td>https://github.com/hupili</td>\n",
       "      <td>2019-05-13</td>\n",
       "    </tr>\n",
       "    <tr>\n",
       "      <th>3342</th>\n",
       "      <td>0</td>\n",
       "      <td>2019-05-14</td>\n",
       "      <td>https://github.com/hupili</td>\n",
       "      <td>2019-05-14</td>\n",
       "    </tr>\n",
       "    <tr>\n",
       "      <th>3343</th>\n",
       "      <td>0</td>\n",
       "      <td>2019-05-15</td>\n",
       "      <td>https://github.com/hupili</td>\n",
       "      <td>2019-05-15</td>\n",
       "    </tr>\n",
       "    <tr>\n",
       "      <th>3344</th>\n",
       "      <td>0</td>\n",
       "      <td>2019-05-16</td>\n",
       "      <td>https://github.com/hupili</td>\n",
       "      <td>2019-05-16</td>\n",
       "    </tr>\n",
       "    <tr>\n",
       "      <th>3345</th>\n",
       "      <td>0</td>\n",
       "      <td>2019-05-17</td>\n",
       "      <td>https://github.com/hupili</td>\n",
       "      <td>2019-05-17</td>\n",
       "    </tr>\n",
       "    <tr>\n",
       "      <th>3346</th>\n",
       "      <td>0</td>\n",
       "      <td>2019-05-18</td>\n",
       "      <td>https://github.com/hupili</td>\n",
       "      <td>2019-05-18</td>\n",
       "    </tr>\n",
       "    <tr>\n",
       "      <th>3347</th>\n",
       "      <td>4</td>\n",
       "      <td>2019-05-19</td>\n",
       "      <td>https://github.com/hupili</td>\n",
       "      <td>2019-05-19</td>\n",
       "    </tr>\n",
       "    <tr>\n",
       "      <th>3348</th>\n",
       "      <td>0</td>\n",
       "      <td>2019-05-20</td>\n",
       "      <td>https://github.com/hupili</td>\n",
       "      <td>2019-05-20</td>\n",
       "    </tr>\n",
       "    <tr>\n",
       "      <th>3349</th>\n",
       "      <td>0</td>\n",
       "      <td>2019-05-21</td>\n",
       "      <td>https://github.com/hupili</td>\n",
       "      <td>2019-05-21</td>\n",
       "    </tr>\n",
       "  </tbody>\n",
       "</table>\n",
       "<p>3350 rows × 4 columns</p>\n",
       "</div>"
      ],
      "text/plain": [
       "      data-count   data-date                          url   datetime\n",
       "0              0  2019-01-08  https://github.com/angiecwl 2019-01-08\n",
       "1              0  2019-01-09  https://github.com/angiecwl 2019-01-09\n",
       "2              0  2019-01-10  https://github.com/angiecwl 2019-01-10\n",
       "3              0  2019-01-11  https://github.com/angiecwl 2019-01-11\n",
       "4              0  2019-01-12  https://github.com/angiecwl 2019-01-12\n",
       "5              0  2019-01-13  https://github.com/angiecwl 2019-01-13\n",
       "6              0  2019-01-14  https://github.com/angiecwl 2019-01-14\n",
       "7              0  2019-01-15  https://github.com/angiecwl 2019-01-15\n",
       "8              0  2019-01-16  https://github.com/angiecwl 2019-01-16\n",
       "9              0  2019-01-17  https://github.com/angiecwl 2019-01-17\n",
       "10             0  2019-01-18  https://github.com/angiecwl 2019-01-18\n",
       "11             0  2019-01-19  https://github.com/angiecwl 2019-01-19\n",
       "12             0  2019-01-20  https://github.com/angiecwl 2019-01-20\n",
       "13             0  2019-01-21  https://github.com/angiecwl 2019-01-21\n",
       "14             0  2019-01-22  https://github.com/angiecwl 2019-01-22\n",
       "15             0  2019-01-23  https://github.com/angiecwl 2019-01-23\n",
       "16             0  2019-01-24  https://github.com/angiecwl 2019-01-24\n",
       "17             0  2019-01-25  https://github.com/angiecwl 2019-01-25\n",
       "18             9  2019-01-26  https://github.com/angiecwl 2019-01-26\n",
       "19             0  2019-01-27  https://github.com/angiecwl 2019-01-27\n",
       "20             0  2019-01-28  https://github.com/angiecwl 2019-01-28\n",
       "21             0  2019-01-29  https://github.com/angiecwl 2019-01-29\n",
       "22             0  2019-01-30  https://github.com/angiecwl 2019-01-30\n",
       "23             0  2019-01-31  https://github.com/angiecwl 2019-01-31\n",
       "24             0  2019-02-01  https://github.com/angiecwl 2019-02-01\n",
       "25             6  2019-02-02  https://github.com/angiecwl 2019-02-02\n",
       "26             0  2019-02-03  https://github.com/angiecwl 2019-02-03\n",
       "27             0  2019-02-04  https://github.com/angiecwl 2019-02-04\n",
       "28             0  2019-02-05  https://github.com/angiecwl 2019-02-05\n",
       "29             0  2019-02-06  https://github.com/angiecwl 2019-02-06\n",
       "...          ...         ...                          ...        ...\n",
       "3320           0  2019-04-22    https://github.com/hupili 2019-04-22\n",
       "3321           0  2019-04-23    https://github.com/hupili 2019-04-23\n",
       "3322           0  2019-04-24    https://github.com/hupili 2019-04-24\n",
       "3323           2  2019-04-25    https://github.com/hupili 2019-04-25\n",
       "3324           2  2019-04-26    https://github.com/hupili 2019-04-26\n",
       "3325           0  2019-04-27    https://github.com/hupili 2019-04-27\n",
       "3326           4  2019-04-28    https://github.com/hupili 2019-04-28\n",
       "3327           0  2019-04-29    https://github.com/hupili 2019-04-29\n",
       "3328           0  2019-04-30    https://github.com/hupili 2019-04-30\n",
       "3329           0  2019-05-01    https://github.com/hupili 2019-05-01\n",
       "3330           0  2019-05-02    https://github.com/hupili 2019-05-02\n",
       "3331           0  2019-05-03    https://github.com/hupili 2019-05-03\n",
       "3332           0  2019-05-04    https://github.com/hupili 2019-05-04\n",
       "3333           4  2019-05-05    https://github.com/hupili 2019-05-05\n",
       "3334           0  2019-05-06    https://github.com/hupili 2019-05-06\n",
       "3335           0  2019-05-07    https://github.com/hupili 2019-05-07\n",
       "3336           0  2019-05-08    https://github.com/hupili 2019-05-08\n",
       "3337           0  2019-05-09    https://github.com/hupili 2019-05-09\n",
       "3338           0  2019-05-10    https://github.com/hupili 2019-05-10\n",
       "3339           0  2019-05-11    https://github.com/hupili 2019-05-11\n",
       "3340           8  2019-05-12    https://github.com/hupili 2019-05-12\n",
       "3341           0  2019-05-13    https://github.com/hupili 2019-05-13\n",
       "3342           0  2019-05-14    https://github.com/hupili 2019-05-14\n",
       "3343           0  2019-05-15    https://github.com/hupili 2019-05-15\n",
       "3344           0  2019-05-16    https://github.com/hupili 2019-05-16\n",
       "3345           0  2019-05-17    https://github.com/hupili 2019-05-17\n",
       "3346           0  2019-05-18    https://github.com/hupili 2019-05-18\n",
       "3347           4  2019-05-19    https://github.com/hupili 2019-05-19\n",
       "3348           0  2019-05-20    https://github.com/hupili 2019-05-20\n",
       "3349           0  2019-05-21    https://github.com/hupili 2019-05-21\n",
       "\n",
       "[3350 rows x 4 columns]"
      ]
     },
     "execution_count": 20,
     "metadata": {},
     "output_type": "execute_result"
    }
   ],
   "source": [
    "df"
   ]
  },
  {
   "cell_type": "markdown",
   "metadata": {},
   "source": [
    "## Time series by class"
   ]
  },
  {
   "cell_type": "code",
   "execution_count": 21,
   "metadata": {},
   "outputs": [],
   "source": [
    "df_students = pd.read_csv('github-scrapers/user-list.csv')"
   ]
  },
  {
   "cell_type": "code",
   "execution_count": 22,
   "metadata": {},
   "outputs": [
    {
     "data": {
      "text/html": [
       "<div>\n",
       "<style scoped>\n",
       "    .dataframe tbody tr th:only-of-type {\n",
       "        vertical-align: middle;\n",
       "    }\n",
       "\n",
       "    .dataframe tbody tr th {\n",
       "        vertical-align: top;\n",
       "    }\n",
       "\n",
       "    .dataframe thead th {\n",
       "        text-align: right;\n",
       "    }\n",
       "</style>\n",
       "<table border=\"1\" class=\"dataframe\">\n",
       "  <thead>\n",
       "    <tr style=\"text-align: right;\">\n",
       "      <th></th>\n",
       "      <th>Course_Code</th>\n",
       "      <th>Student_Name</th>\n",
       "      <th>github_link</th>\n",
       "      <th>remark</th>\n",
       "    </tr>\n",
       "  </thead>\n",
       "  <tbody>\n",
       "    <tr>\n",
       "      <th>0</th>\n",
       "      <td>JOUR2106</td>\n",
       "      <td>Angie Chan</td>\n",
       "      <td>https://github.com/angiecwl</td>\n",
       "      <td>Enrolled</td>\n",
       "    </tr>\n",
       "    <tr>\n",
       "      <th>1</th>\n",
       "      <td>JOUR2106</td>\n",
       "      <td>CHEN Fang-Yi</td>\n",
       "      <td>https://github.com/FangFangYC</td>\n",
       "      <td>Enrolled</td>\n",
       "    </tr>\n",
       "    <tr>\n",
       "      <th>2</th>\n",
       "      <td>JOUR2106</td>\n",
       "      <td>Cheung Yan Yi</td>\n",
       "      <td>https://github.com/CheungYanYi</td>\n",
       "      <td>Enrolled</td>\n",
       "    </tr>\n",
       "    <tr>\n",
       "      <th>3</th>\n",
       "      <td>JOUR2106</td>\n",
       "      <td>ZHAO Minzhu</td>\n",
       "      <td>https://github.com/MindyZHAOMinzhu</td>\n",
       "      <td>Enrolled</td>\n",
       "    </tr>\n",
       "    <tr>\n",
       "      <th>4</th>\n",
       "      <td>JOUR2106</td>\n",
       "      <td>Holly Chik</td>\n",
       "      <td>https://github.com/hollychik</td>\n",
       "      <td>Enrolled</td>\n",
       "    </tr>\n",
       "  </tbody>\n",
       "</table>\n",
       "</div>"
      ],
      "text/plain": [
       "  Course_Code   Student_Name                         github_link    remark\n",
       "0    JOUR2106     Angie Chan         https://github.com/angiecwl  Enrolled\n",
       "1    JOUR2106   CHEN Fang-Yi       https://github.com/FangFangYC  Enrolled\n",
       "2    JOUR2106  Cheung Yan Yi      https://github.com/CheungYanYi  Enrolled\n",
       "3    JOUR2106    ZHAO Minzhu  https://github.com/MindyZHAOMinzhu  Enrolled\n",
       "4    JOUR2106     Holly Chik        https://github.com/hollychik  Enrolled"
      ]
     },
     "execution_count": 22,
     "metadata": {},
     "output_type": "execute_result"
    }
   ],
   "source": [
    "df_students.head()"
   ]
  },
  {
   "cell_type": "code",
   "execution_count": 23,
   "metadata": {},
   "outputs": [],
   "source": [
    "df_merged = df.merge(df_students, left_on='url', right_on='github_link')"
   ]
  },
  {
   "cell_type": "code",
   "execution_count": 24,
   "metadata": {},
   "outputs": [
    {
     "data": {
      "text/html": [
       "<div>\n",
       "<style scoped>\n",
       "    .dataframe tbody tr th:only-of-type {\n",
       "        vertical-align: middle;\n",
       "    }\n",
       "\n",
       "    .dataframe tbody tr th {\n",
       "        vertical-align: top;\n",
       "    }\n",
       "\n",
       "    .dataframe thead th {\n",
       "        text-align: right;\n",
       "    }\n",
       "</style>\n",
       "<table border=\"1\" class=\"dataframe\">\n",
       "  <thead>\n",
       "    <tr style=\"text-align: right;\">\n",
       "      <th></th>\n",
       "      <th>data-count</th>\n",
       "      <th>data-date</th>\n",
       "      <th>url</th>\n",
       "      <th>datetime</th>\n",
       "      <th>Course_Code</th>\n",
       "      <th>Student_Name</th>\n",
       "      <th>github_link</th>\n",
       "      <th>remark</th>\n",
       "    </tr>\n",
       "  </thead>\n",
       "  <tbody>\n",
       "    <tr>\n",
       "      <th>0</th>\n",
       "      <td>0</td>\n",
       "      <td>2019-01-08</td>\n",
       "      <td>https://github.com/angiecwl</td>\n",
       "      <td>2019-01-08</td>\n",
       "      <td>JOUR2106</td>\n",
       "      <td>Angie Chan</td>\n",
       "      <td>https://github.com/angiecwl</td>\n",
       "      <td>Enrolled</td>\n",
       "    </tr>\n",
       "    <tr>\n",
       "      <th>1</th>\n",
       "      <td>0</td>\n",
       "      <td>2019-01-09</td>\n",
       "      <td>https://github.com/angiecwl</td>\n",
       "      <td>2019-01-09</td>\n",
       "      <td>JOUR2106</td>\n",
       "      <td>Angie Chan</td>\n",
       "      <td>https://github.com/angiecwl</td>\n",
       "      <td>Enrolled</td>\n",
       "    </tr>\n",
       "    <tr>\n",
       "      <th>2</th>\n",
       "      <td>0</td>\n",
       "      <td>2019-01-10</td>\n",
       "      <td>https://github.com/angiecwl</td>\n",
       "      <td>2019-01-10</td>\n",
       "      <td>JOUR2106</td>\n",
       "      <td>Angie Chan</td>\n",
       "      <td>https://github.com/angiecwl</td>\n",
       "      <td>Enrolled</td>\n",
       "    </tr>\n",
       "    <tr>\n",
       "      <th>3</th>\n",
       "      <td>0</td>\n",
       "      <td>2019-01-11</td>\n",
       "      <td>https://github.com/angiecwl</td>\n",
       "      <td>2019-01-11</td>\n",
       "      <td>JOUR2106</td>\n",
       "      <td>Angie Chan</td>\n",
       "      <td>https://github.com/angiecwl</td>\n",
       "      <td>Enrolled</td>\n",
       "    </tr>\n",
       "    <tr>\n",
       "      <th>4</th>\n",
       "      <td>0</td>\n",
       "      <td>2019-01-12</td>\n",
       "      <td>https://github.com/angiecwl</td>\n",
       "      <td>2019-01-12</td>\n",
       "      <td>JOUR2106</td>\n",
       "      <td>Angie Chan</td>\n",
       "      <td>https://github.com/angiecwl</td>\n",
       "      <td>Enrolled</td>\n",
       "    </tr>\n",
       "  </tbody>\n",
       "</table>\n",
       "</div>"
      ],
      "text/plain": [
       "   data-count   data-date                          url   datetime Course_Code  \\\n",
       "0           0  2019-01-08  https://github.com/angiecwl 2019-01-08    JOUR2106   \n",
       "1           0  2019-01-09  https://github.com/angiecwl 2019-01-09    JOUR2106   \n",
       "2           0  2019-01-10  https://github.com/angiecwl 2019-01-10    JOUR2106   \n",
       "3           0  2019-01-11  https://github.com/angiecwl 2019-01-11    JOUR2106   \n",
       "4           0  2019-01-12  https://github.com/angiecwl 2019-01-12    JOUR2106   \n",
       "\n",
       "  Student_Name                  github_link    remark  \n",
       "0   Angie Chan  https://github.com/angiecwl  Enrolled  \n",
       "1   Angie Chan  https://github.com/angiecwl  Enrolled  \n",
       "2   Angie Chan  https://github.com/angiecwl  Enrolled  \n",
       "3   Angie Chan  https://github.com/angiecwl  Enrolled  \n",
       "4   Angie Chan  https://github.com/angiecwl  Enrolled  "
      ]
     },
     "execution_count": 24,
     "metadata": {},
     "output_type": "execute_result"
    }
   ],
   "source": [
    "df_merged.head()"
   ]
  },
  {
   "cell_type": "markdown",
   "metadata": {},
   "source": [
    "### pivot table"
   ]
  },
  {
   "cell_type": "code",
   "execution_count": 25,
   "metadata": {},
   "outputs": [
    {
     "data": {
      "text/plain": [
       "<matplotlib.axes._subplots.AxesSubplot at 0x11075dd30>"
      ]
     },
     "execution_count": 25,
     "metadata": {},
     "output_type": "execute_result"
    },
    {
     "data": {
      "image/png": "[encoded data removed]",
      "text/plain": [
       "<Figure size 432x288 with 1 Axes>"
      ]
     },
     "metadata": {
      "needs_background": "light"
     },
     "output_type": "display_data"
    }
   ],
   "source": [
    "pd.pivot_table(\n",
    "    df_merged, index='datetime', values=['data-count'], aggfunc='sum'\n",
    ").plot()"
   ]
  },
  {
   "cell_type": "code",
   "execution_count": 26,
   "metadata": {},
   "outputs": [
    {
     "data": {
      "text/plain": [
       "<matplotlib.axes._subplots.AxesSubplot at 0x103a2e9e8>"
      ]
     },
     "execution_count": 26,
     "metadata": {},
     "output_type": "execute_result"
    },
    {
     "data": {
      "image/png": "[encoded data removed]",
      "text/plain": [
       "<Figure size 432x288 with 1 Axes>"
      ]
     },
     "metadata": {
      "needs_background": "light"
     },
     "output_type": "display_data"
    }
   ],
   "source": [
    "pd.pivot_table(\n",
    "    df_merged, index='datetime', values=['data-count'], aggfunc='sum'\n",
    ").resample('1w').aggregate('sum').plot()"
   ]
  },
  {
   "cell_type": "code",
   "execution_count": 27,
   "metadata": {},
   "outputs": [
    {
     "data": {
      "text/html": [
       "<div>\n",
       "<style scoped>\n",
       "    .dataframe tbody tr th:only-of-type {\n",
       "        vertical-align: middle;\n",
       "    }\n",
       "\n",
       "    .dataframe tbody tr th {\n",
       "        vertical-align: top;\n",
       "    }\n",
       "\n",
       "    .dataframe thead th {\n",
       "        text-align: right;\n",
       "    }\n",
       "</style>\n",
       "<table border=\"1\" class=\"dataframe\">\n",
       "  <thead>\n",
       "    <tr style=\"text-align: right;\">\n",
       "      <th></th>\n",
       "      <th>data-count</th>\n",
       "    </tr>\n",
       "    <tr>\n",
       "      <th>datetime</th>\n",
       "      <th></th>\n",
       "    </tr>\n",
       "  </thead>\n",
       "  <tbody>\n",
       "    <tr>\n",
       "      <th>2019-01-13</th>\n",
       "      <td>8</td>\n",
       "    </tr>\n",
       "    <tr>\n",
       "      <th>2019-01-27</th>\n",
       "      <td>259</td>\n",
       "    </tr>\n",
       "    <tr>\n",
       "      <th>2019-02-10</th>\n",
       "      <td>201</td>\n",
       "    </tr>\n",
       "    <tr>\n",
       "      <th>2019-02-24</th>\n",
       "      <td>62</td>\n",
       "    </tr>\n",
       "    <tr>\n",
       "      <th>2019-03-10</th>\n",
       "      <td>32</td>\n",
       "    </tr>\n",
       "    <tr>\n",
       "      <th>2019-03-24</th>\n",
       "      <td>31</td>\n",
       "    </tr>\n",
       "    <tr>\n",
       "      <th>2019-04-07</th>\n",
       "      <td>63</td>\n",
       "    </tr>\n",
       "    <tr>\n",
       "      <th>2019-04-21</th>\n",
       "      <td>14</td>\n",
       "    </tr>\n",
       "    <tr>\n",
       "      <th>2019-05-05</th>\n",
       "      <td>86</td>\n",
       "    </tr>\n",
       "    <tr>\n",
       "      <th>2019-05-19</th>\n",
       "      <td>31</td>\n",
       "    </tr>\n",
       "    <tr>\n",
       "      <th>2019-06-02</th>\n",
       "      <td>0</td>\n",
       "    </tr>\n",
       "  </tbody>\n",
       "</table>\n",
       "</div>"
      ],
      "text/plain": [
       "            data-count\n",
       "datetime              \n",
       "2019-01-13           8\n",
       "2019-01-27         259\n",
       "2019-02-10         201\n",
       "2019-02-24          62\n",
       "2019-03-10          32\n",
       "2019-03-24          31\n",
       "2019-04-07          63\n",
       "2019-04-21          14\n",
       "2019-05-05          86\n",
       "2019-05-19          31\n",
       "2019-06-02           0"
      ]
     },
     "execution_count": 27,
     "metadata": {},
     "output_type": "execute_result"
    }
   ],
   "source": [
    "pd.pivot_table(\n",
    "    df_merged, index='datetime', values=['data-count'], aggfunc='sum'\n",
    ").resample('2w').aggregate('sum')#.plot()"
   ]
  },
  {
   "cell_type": "markdown",
   "metadata": {},
   "source": [
    "## Number of contributions by person"
   ]
  },
  {
   "cell_type": "code",
   "execution_count": 28,
   "metadata": {},
   "outputs": [
    {
     "data": {
      "text/html": [
       "<div>\n",
       "<style scoped>\n",
       "    .dataframe tbody tr th:only-of-type {\n",
       "        vertical-align: middle;\n",
       "    }\n",
       "\n",
       "    .dataframe tbody tr th {\n",
       "        vertical-align: top;\n",
       "    }\n",
       "\n",
       "    .dataframe thead th {\n",
       "        text-align: right;\n",
       "    }\n",
       "</style>\n",
       "<table border=\"1\" class=\"dataframe\">\n",
       "  <thead>\n",
       "    <tr style=\"text-align: right;\">\n",
       "      <th></th>\n",
       "      <th></th>\n",
       "      <th>data-count</th>\n",
       "    </tr>\n",
       "    <tr>\n",
       "      <th>Student_Name</th>\n",
       "      <th>Course_Code</th>\n",
       "      <th></th>\n",
       "    </tr>\n",
       "  </thead>\n",
       "  <tbody>\n",
       "    <tr>\n",
       "      <th>Hu Pili</th>\n",
       "      <th>JOUR2106</th>\n",
       "      <td>119</td>\n",
       "    </tr>\n",
       "    <tr>\n",
       "      <th>DONG Xinyue</th>\n",
       "      <th>JOUR2106</th>\n",
       "      <td>91</td>\n",
       "    </tr>\n",
       "    <tr>\n",
       "      <th>ZHAO Minzhu</th>\n",
       "      <th>JOUR2106</th>\n",
       "      <td>58</td>\n",
       "    </tr>\n",
       "    <tr>\n",
       "      <th>Holly Chik</th>\n",
       "      <th>JOUR2106</th>\n",
       "      <td>58</td>\n",
       "    </tr>\n",
       "    <tr>\n",
       "      <th>Wang Ziwei</th>\n",
       "      <th>JOUR2106</th>\n",
       "      <td>57</td>\n",
       "    </tr>\n",
       "    <tr>\n",
       "      <th>Ray Liu</th>\n",
       "      <th>JOUR2106</th>\n",
       "      <td>52</td>\n",
       "    </tr>\n",
       "    <tr>\n",
       "      <th>LI Yun</th>\n",
       "      <th>JOUR2106</th>\n",
       "      <td>45</td>\n",
       "    </tr>\n",
       "    <tr>\n",
       "      <th>Gursimran Hans</th>\n",
       "      <th>JOUR2106</th>\n",
       "      <td>40</td>\n",
       "    </tr>\n",
       "    <tr>\n",
       "      <th>Li Yuquan</th>\n",
       "      <th>JOUR2106</th>\n",
       "      <td>31</td>\n",
       "    </tr>\n",
       "    <tr>\n",
       "      <th>NG Yee Sin</th>\n",
       "      <th>JOUR2106</th>\n",
       "      <td>30</td>\n",
       "    </tr>\n",
       "    <tr>\n",
       "      <th>Zhao Zoya</th>\n",
       "      <th>JOUR2106</th>\n",
       "      <td>25</td>\n",
       "    </tr>\n",
       "    <tr>\n",
       "      <th>Chin Ho Nam Erica</th>\n",
       "      <th>JOUR2106</th>\n",
       "      <td>24</td>\n",
       "    </tr>\n",
       "    <tr>\n",
       "      <th>Nguyen Thi Minh Anh</th>\n",
       "      <th>JOUR2106</th>\n",
       "      <td>21</td>\n",
       "    </tr>\n",
       "    <tr>\n",
       "      <th>Liu Pei Lin</th>\n",
       "      <th>JOUR2106</th>\n",
       "      <td>18</td>\n",
       "    </tr>\n",
       "    <tr>\n",
       "      <th>Yiming Ding</th>\n",
       "      <th>JOUR2106</th>\n",
       "      <td>17</td>\n",
       "    </tr>\n",
       "    <tr>\n",
       "      <th>Angie Chan</th>\n",
       "      <th>JOUR2106</th>\n",
       "      <td>16</td>\n",
       "    </tr>\n",
       "    <tr>\n",
       "      <th>CHEN Fang-Yi</th>\n",
       "      <th>JOUR2106</th>\n",
       "      <td>16</td>\n",
       "    </tr>\n",
       "    <tr>\n",
       "      <th>Akane Nakasuji</th>\n",
       "      <th>JOUR2106</th>\n",
       "      <td>14</td>\n",
       "    </tr>\n",
       "    <tr>\n",
       "      <th>Kuang Tianzheng</th>\n",
       "      <th>JOUR2108</th>\n",
       "      <td>12</td>\n",
       "    </tr>\n",
       "    <tr>\n",
       "      <th>SUN Han Yue</th>\n",
       "      <th>JOUR2106</th>\n",
       "      <td>11</td>\n",
       "    </tr>\n",
       "    <tr>\n",
       "      <th>GE XINRAN</th>\n",
       "      <th>JOUR2106</th>\n",
       "      <td>10</td>\n",
       "    </tr>\n",
       "    <tr>\n",
       "      <th>Cheung Yan Yi</th>\n",
       "      <th>JOUR2106</th>\n",
       "      <td>9</td>\n",
       "    </tr>\n",
       "    <tr>\n",
       "      <th>MO Kexin</th>\n",
       "      <th>JOUR2106</th>\n",
       "      <td>6</td>\n",
       "    </tr>\n",
       "    <tr>\n",
       "      <th>Chen Lewei</th>\n",
       "      <th>JOUR2107</th>\n",
       "      <td>5</td>\n",
       "    </tr>\n",
       "    <tr>\n",
       "      <th>Li Sin Yung</th>\n",
       "      <th>JOUR2106</th>\n",
       "      <td>2</td>\n",
       "    </tr>\n",
       "  </tbody>\n",
       "</table>\n",
       "</div>"
      ],
      "text/plain": [
       "                                 data-count\n",
       "Student_Name        Course_Code            \n",
       "Hu Pili             JOUR2106            119\n",
       "DONG Xinyue         JOUR2106             91\n",
       "ZHAO Minzhu         JOUR2106             58\n",
       "Holly Chik          JOUR2106             58\n",
       "Wang Ziwei          JOUR2106             57\n",
       "Ray Liu             JOUR2106             52\n",
       "LI Yun              JOUR2106             45\n",
       "Gursimran Hans      JOUR2106             40\n",
       "Li Yuquan           JOUR2106             31\n",
       "NG Yee Sin          JOUR2106             30\n",
       "Zhao Zoya           JOUR2106             25\n",
       "Chin Ho Nam Erica   JOUR2106             24\n",
       "Nguyen Thi Minh Anh JOUR2106             21\n",
       "Liu Pei Lin         JOUR2106             18\n",
       "Yiming Ding         JOUR2106             17\n",
       "Angie Chan          JOUR2106             16\n",
       "CHEN Fang-Yi        JOUR2106             16\n",
       "Akane Nakasuji      JOUR2106             14\n",
       "Kuang Tianzheng     JOUR2108             12\n",
       "SUN Han Yue         JOUR2106             11\n",
       "GE XINRAN           JOUR2106             10\n",
       "Cheung Yan Yi       JOUR2106              9\n",
       "MO Kexin            JOUR2106              6\n",
       "Chen Lewei          JOUR2107              5\n",
       "Li Sin Yung         JOUR2106              2"
      ]
     },
     "execution_count": 28,
     "metadata": {},
     "output_type": "execute_result"
    }
   ],
   "source": [
    "pd.pivot_table(\n",
    "    df_merged, index=['Student_Name', 'Course_Code'], values=['data-count'], aggfunc='sum'\n",
    ").sort_values(by='data-count', ascending=False)"
   ]
  },
  {
   "cell_type": "markdown",
   "metadata": {},
   "source": [
    "## Number of contributions in past week?"
   ]
  },
  {
   "cell_type": "code",
   "execution_count": 29,
   "metadata": {},
   "outputs": [
    {
     "data": {
      "text/plain": [
       "3350"
      ]
     },
     "execution_count": 29,
     "metadata": {},
     "output_type": "execute_result"
    }
   ],
   "source": [
    "len(df_merged)"
   ]
  },
  {
   "cell_type": "code",
   "execution_count": 30,
   "metadata": {},
   "outputs": [
    {
     "data": {
      "text/plain": [
       "'2019-04-25'"
      ]
     },
     "execution_count": 30,
     "metadata": {},
     "output_type": "execute_result"
    }
   ],
   "source": [
    "'2019-04-19'\n",
    "'2019-04-25'"
   ]
  },
  {
   "cell_type": "code",
   "execution_count": 31,
   "metadata": {},
   "outputs": [
    {
     "data": {
      "text/plain": [
       "1100"
      ]
     },
     "execution_count": 31,
     "metadata": {},
     "output_type": "execute_result"
    }
   ],
   "source": [
    "len(df_merged[\n",
    "    df_merged['data-date'] > '2019-04-07'\n",
    "])"
   ]
  },
  {
   "cell_type": "markdown",
   "metadata": {},
   "source": [
    "Why can wedo the above string comparison in order to compare two datetime objects?\n",
    "\n",
    "Because we have a canonical format here\n",
    "\n",
    "```\n",
    "yyyymmdd\n",
    "2018-11-05\n",
    "2018-11-12\n",
    "```\n",
    "\n",
    "If not using canonical format, the comparison will yield different result\n",
    "\n",
    "```\n",
    "2018-11-5\n",
    "2018-11-12\n",
    "```"
   ]
  },
  {
   "cell_type": "code",
   "execution_count": 32,
   "metadata": {},
   "outputs": [
    {
     "data": {
      "text/html": [
       "<div>\n",
       "<style scoped>\n",
       "    .dataframe tbody tr th:only-of-type {\n",
       "        vertical-align: middle;\n",
       "    }\n",
       "\n",
       "    .dataframe tbody tr th {\n",
       "        vertical-align: top;\n",
       "    }\n",
       "\n",
       "    .dataframe thead th {\n",
       "        text-align: right;\n",
       "    }\n",
       "</style>\n",
       "<table border=\"1\" class=\"dataframe\">\n",
       "  <thead>\n",
       "    <tr style=\"text-align: right;\">\n",
       "      <th></th>\n",
       "      <th></th>\n",
       "      <th>data-count</th>\n",
       "    </tr>\n",
       "    <tr>\n",
       "      <th>Student_Name</th>\n",
       "      <th>Course_Code</th>\n",
       "      <th></th>\n",
       "    </tr>\n",
       "  </thead>\n",
       "  <tbody>\n",
       "    <tr>\n",
       "      <th>Ray Liu</th>\n",
       "      <th>JOUR2106</th>\n",
       "      <td>34</td>\n",
       "    </tr>\n",
       "    <tr>\n",
       "      <th>Hu Pili</th>\n",
       "      <th>JOUR2106</th>\n",
       "      <td>30</td>\n",
       "    </tr>\n",
       "    <tr>\n",
       "      <th>ZHAO Minzhu</th>\n",
       "      <th>JOUR2106</th>\n",
       "      <td>20</td>\n",
       "    </tr>\n",
       "    <tr>\n",
       "      <th>DONG Xinyue</th>\n",
       "      <th>JOUR2106</th>\n",
       "      <td>19</td>\n",
       "    </tr>\n",
       "    <tr>\n",
       "      <th>Holly Chik</th>\n",
       "      <th>JOUR2106</th>\n",
       "      <td>10</td>\n",
       "    </tr>\n",
       "    <tr>\n",
       "      <th>Gursimran Hans</th>\n",
       "      <th>JOUR2106</th>\n",
       "      <td>8</td>\n",
       "    </tr>\n",
       "    <tr>\n",
       "      <th>Wang Ziwei</th>\n",
       "      <th>JOUR2106</th>\n",
       "      <td>6</td>\n",
       "    </tr>\n",
       "    <tr>\n",
       "      <th>Liu Pei Lin</th>\n",
       "      <th>JOUR2106</th>\n",
       "      <td>2</td>\n",
       "    </tr>\n",
       "    <tr>\n",
       "      <th>CHEN Fang-Yi</th>\n",
       "      <th>JOUR2106</th>\n",
       "      <td>1</td>\n",
       "    </tr>\n",
       "    <tr>\n",
       "      <th>NG Yee Sin</th>\n",
       "      <th>JOUR2106</th>\n",
       "      <td>1</td>\n",
       "    </tr>\n",
       "    <tr>\n",
       "      <th>Akane Nakasuji</th>\n",
       "      <th>JOUR2106</th>\n",
       "      <td>0</td>\n",
       "    </tr>\n",
       "    <tr>\n",
       "      <th>Yiming Ding</th>\n",
       "      <th>JOUR2106</th>\n",
       "      <td>0</td>\n",
       "    </tr>\n",
       "    <tr>\n",
       "      <th>SUN Han Yue</th>\n",
       "      <th>JOUR2106</th>\n",
       "      <td>0</td>\n",
       "    </tr>\n",
       "    <tr>\n",
       "      <th>Nguyen Thi Minh Anh</th>\n",
       "      <th>JOUR2106</th>\n",
       "      <td>0</td>\n",
       "    </tr>\n",
       "    <tr>\n",
       "      <th>MO Kexin</th>\n",
       "      <th>JOUR2106</th>\n",
       "      <td>0</td>\n",
       "    </tr>\n",
       "    <tr>\n",
       "      <th>LI Yun</th>\n",
       "      <th>JOUR2106</th>\n",
       "      <td>0</td>\n",
       "    </tr>\n",
       "    <tr>\n",
       "      <th>Li Yuquan</th>\n",
       "      <th>JOUR2106</th>\n",
       "      <td>0</td>\n",
       "    </tr>\n",
       "    <tr>\n",
       "      <th>Li Sin Yung</th>\n",
       "      <th>JOUR2106</th>\n",
       "      <td>0</td>\n",
       "    </tr>\n",
       "    <tr>\n",
       "      <th>Angie Chan</th>\n",
       "      <th>JOUR2106</th>\n",
       "      <td>0</td>\n",
       "    </tr>\n",
       "    <tr>\n",
       "      <th>Kuang Tianzheng</th>\n",
       "      <th>JOUR2108</th>\n",
       "      <td>0</td>\n",
       "    </tr>\n",
       "    <tr>\n",
       "      <th>GE XINRAN</th>\n",
       "      <th>JOUR2106</th>\n",
       "      <td>0</td>\n",
       "    </tr>\n",
       "    <tr>\n",
       "      <th>Chin Ho Nam Erica</th>\n",
       "      <th>JOUR2106</th>\n",
       "      <td>0</td>\n",
       "    </tr>\n",
       "    <tr>\n",
       "      <th>Cheung Yan Yi</th>\n",
       "      <th>JOUR2106</th>\n",
       "      <td>0</td>\n",
       "    </tr>\n",
       "    <tr>\n",
       "      <th>Chen Lewei</th>\n",
       "      <th>JOUR2107</th>\n",
       "      <td>0</td>\n",
       "    </tr>\n",
       "    <tr>\n",
       "      <th>Zhao Zoya</th>\n",
       "      <th>JOUR2106</th>\n",
       "      <td>0</td>\n",
       "    </tr>\n",
       "  </tbody>\n",
       "</table>\n",
       "</div>"
      ],
      "text/plain": [
       "                                 data-count\n",
       "Student_Name        Course_Code            \n",
       "Ray Liu             JOUR2106             34\n",
       "Hu Pili             JOUR2106             30\n",
       "ZHAO Minzhu         JOUR2106             20\n",
       "DONG Xinyue         JOUR2106             19\n",
       "Holly Chik          JOUR2106             10\n",
       "Gursimran Hans      JOUR2106              8\n",
       "Wang Ziwei          JOUR2106              6\n",
       "Liu Pei Lin         JOUR2106              2\n",
       "CHEN Fang-Yi        JOUR2106              1\n",
       "NG Yee Sin          JOUR2106              1\n",
       "Akane Nakasuji      JOUR2106              0\n",
       "Yiming Ding         JOUR2106              0\n",
       "SUN Han Yue         JOUR2106              0\n",
       "Nguyen Thi Minh Anh JOUR2106              0\n",
       "MO Kexin            JOUR2106              0\n",
       "LI Yun              JOUR2106              0\n",
       "Li Yuquan           JOUR2106              0\n",
       "Li Sin Yung         JOUR2106              0\n",
       "Angie Chan          JOUR2106              0\n",
       "Kuang Tianzheng     JOUR2108              0\n",
       "GE XINRAN           JOUR2106              0\n",
       "Chin Ho Nam Erica   JOUR2106              0\n",
       "Cheung Yan Yi       JOUR2106              0\n",
       "Chen Lewei          JOUR2107              0\n",
       "Zhao Zoya           JOUR2106              0"
      ]
     },
     "execution_count": 32,
     "metadata": {},
     "output_type": "execute_result"
    }
   ],
   "source": [
    "# step 1:\n",
    "# df_merged <-- contributions in past week\n",
    "\n",
    "df_past_week = df_merged[\n",
    "    df_merged['data-date'] > '2019-04-07'\n",
    "]\n",
    "\n",
    "# step 2:\n",
    "pd.pivot_table(\n",
    "    df_past_week, index=['Student_Name', 'Course_Code'], values=['data-count'], aggfunc='sum'\n",
    ").sort_values(by='data-count', ascending=False)"
   ]
  },
  {
   "cell_type": "markdown",
   "metadata": {},
   "source": [
    "### Compare time in a more rigorous way"
   ]
  },
  {
   "cell_type": "code",
   "execution_count": 33,
   "metadata": {},
   "outputs": [
    {
     "data": {
      "text/plain": [
       "pandas._libs.tslibs.timestamps.Timestamp"
      ]
     },
     "execution_count": 33,
     "metadata": {},
     "output_type": "execute_result"
    }
   ],
   "source": [
    "type(df['datetime'][0])"
   ]
  },
  {
   "cell_type": "code",
   "execution_count": 34,
   "metadata": {},
   "outputs": [
    {
     "data": {
      "text/plain": [
       "str"
      ]
     },
     "execution_count": 34,
     "metadata": {},
     "output_type": "execute_result"
    }
   ],
   "source": [
    "type(df['data-date'][0])"
   ]
  },
  {
   "cell_type": "code",
   "execution_count": 35,
   "metadata": {},
   "outputs": [],
   "source": [
    "a = df['datetime'][0]"
   ]
  },
  {
   "cell_type": "code",
   "execution_count": 36,
   "metadata": {},
   "outputs": [
    {
     "data": {
      "text/plain": [
       "Timestamp('2019-01-08 00:00:00')"
      ]
     },
     "execution_count": 36,
     "metadata": {},
     "output_type": "execute_result"
    }
   ],
   "source": [
    "a"
   ]
  },
  {
   "cell_type": "code",
   "execution_count": 37,
   "metadata": {},
   "outputs": [],
   "source": [
    "import datetime"
   ]
  },
  {
   "cell_type": "code",
   "execution_count": 38,
   "metadata": {},
   "outputs": [],
   "source": [
    "b = datetime.datetime(2018, 8, 2)"
   ]
  },
  {
   "cell_type": "code",
   "execution_count": 39,
   "metadata": {},
   "outputs": [
    {
     "data": {
      "text/plain": [
       "Timestamp('2019-01-08 00:00:00')"
      ]
     },
     "execution_count": 39,
     "metadata": {},
     "output_type": "execute_result"
    }
   ],
   "source": [
    "a"
   ]
  },
  {
   "cell_type": "code",
   "execution_count": 40,
   "metadata": {},
   "outputs": [
    {
     "data": {
      "text/plain": [
       "datetime.datetime(2018, 8, 2, 0, 0)"
      ]
     },
     "execution_count": 40,
     "metadata": {},
     "output_type": "execute_result"
    }
   ],
   "source": [
    "b"
   ]
  },
  {
   "cell_type": "code",
   "execution_count": 41,
   "metadata": {},
   "outputs": [
    {
     "data": {
      "text/plain": [
       "False"
      ]
     },
     "execution_count": 41,
     "metadata": {},
     "output_type": "execute_result"
    }
   ],
   "source": [
    "a < b"
   ]
  },
  {
   "cell_type": "code",
   "execution_count": 42,
   "metadata": {},
   "outputs": [],
   "source": [
    "b = datetime.datetime(2018, 7, 3)"
   ]
  },
  {
   "cell_type": "code",
   "execution_count": 43,
   "metadata": {},
   "outputs": [
    {
     "data": {
      "text/plain": [
       "False"
      ]
     },
     "execution_count": 43,
     "metadata": {},
     "output_type": "execute_result"
    }
   ],
   "source": [
    "a < b"
   ]
  },
  {
   "cell_type": "code",
   "execution_count": 44,
   "metadata": {},
   "outputs": [],
   "source": [
    "a = datetime.datetime(2018, 11, 5, 21)\n",
    "b = datetime.datetime(2018, 11, 5, 22)"
   ]
  },
  {
   "cell_type": "code",
   "execution_count": 45,
   "metadata": {},
   "outputs": [
    {
     "data": {
      "text/plain": [
       "True"
      ]
     },
     "execution_count": 45,
     "metadata": {},
     "output_type": "execute_result"
    }
   ],
   "source": [
    "a < b"
   ]
  },
  {
   "cell_type": "markdown",
   "metadata": {},
   "source": [
    "## Final project repo"
   ]
  },
  {
   "cell_type": "code",
   "execution_count": 46,
   "metadata": {},
   "outputs": [],
   "source": [
    "df_finals = pd.read_csv('data/final-repos-activities.csv')"
   ]
  },
  {
   "cell_type": "code",
   "execution_count": 47,
   "metadata": {},
   "outputs": [
    {
     "data": {
      "text/plain": [
       "86"
      ]
     },
     "execution_count": 47,
     "metadata": {},
     "output_type": "execute_result"
    }
   ],
   "source": [
    "len(df_finals)"
   ]
  },
  {
   "cell_type": "code",
   "execution_count": 48,
   "metadata": {},
   "outputs": [],
   "source": [
    "# df_finals"
   ]
  },
  {
   "cell_type": "markdown",
   "metadata": {},
   "source": [
    "## User activity details"
   ]
  },
  {
   "cell_type": "code",
   "execution_count": 49,
   "metadata": {},
   "outputs": [],
   "source": [
    "df_details = pd.read_csv('data/user-activity-details.csv')"
   ]
  },
  {
   "cell_type": "code",
   "execution_count": 50,
   "metadata": {},
   "outputs": [
    {
     "data": {
      "text/plain": [
       "1699"
      ]
     },
     "execution_count": 50,
     "metadata": {},
     "output_type": "execute_result"
    }
   ],
   "source": [
    "len(df_details)"
   ]
  },
  {
   "cell_type": "code",
   "execution_count": 51,
   "metadata": {},
   "outputs": [
    {
     "data": {
      "text/plain": [
       "Index(['description', 'repo', 'time', 'type', 'users'], dtype='object')"
      ]
     },
     "execution_count": 51,
     "metadata": {},
     "output_type": "execute_result"
    }
   ],
   "source": [
    "df_details.columns"
   ]
  },
  {
   "cell_type": "code",
   "execution_count": 52,
   "metadata": {},
   "outputs": [
    {
     "data": {
      "text/html": [
       "<div>\n",
       "<style scoped>\n",
       "    .dataframe tbody tr th:only-of-type {\n",
       "        vertical-align: middle;\n",
       "    }\n",
       "\n",
       "    .dataframe tbody tr th {\n",
       "        vertical-align: top;\n",
       "    }\n",
       "\n",
       "    .dataframe thead th {\n",
       "        text-align: right;\n",
       "    }\n",
       "</style>\n",
       "<table border=\"1\" class=\"dataframe\">\n",
       "  <thead>\n",
       "    <tr style=\"text-align: right;\">\n",
       "      <th></th>\n",
       "      <th>description</th>\n",
       "      <th>repo</th>\n",
       "      <th>time</th>\n",
       "      <th>users</th>\n",
       "    </tr>\n",
       "    <tr>\n",
       "      <th>type</th>\n",
       "      <th></th>\n",
       "      <th></th>\n",
       "      <th></th>\n",
       "      <th></th>\n",
       "    </tr>\n",
       "  </thead>\n",
       "  <tbody>\n",
       "    <tr>\n",
       "      <th>CommitCommentEvent</th>\n",
       "      <td>0</td>\n",
       "      <td>1</td>\n",
       "      <td>1</td>\n",
       "      <td>1</td>\n",
       "    </tr>\n",
       "    <tr>\n",
       "      <th>CreateEvent</th>\n",
       "      <td>34</td>\n",
       "      <td>34</td>\n",
       "      <td>34</td>\n",
       "      <td>34</td>\n",
       "    </tr>\n",
       "    <tr>\n",
       "      <th>DeleteEvent</th>\n",
       "      <td>0</td>\n",
       "      <td>2</td>\n",
       "      <td>2</td>\n",
       "      <td>2</td>\n",
       "    </tr>\n",
       "    <tr>\n",
       "      <th>ForkEvent</th>\n",
       "      <td>0</td>\n",
       "      <td>13</td>\n",
       "      <td>13</td>\n",
       "      <td>13</td>\n",
       "    </tr>\n",
       "    <tr>\n",
       "      <th>IssueCommentEvent</th>\n",
       "      <td>0</td>\n",
       "      <td>78</td>\n",
       "      <td>78</td>\n",
       "      <td>78</td>\n",
       "    </tr>\n",
       "    <tr>\n",
       "      <th>IssuesEvent</th>\n",
       "      <td>34</td>\n",
       "      <td>34</td>\n",
       "      <td>34</td>\n",
       "      <td>34</td>\n",
       "    </tr>\n",
       "    <tr>\n",
       "      <th>MemberEvent</th>\n",
       "      <td>0</td>\n",
       "      <td>6</td>\n",
       "      <td>6</td>\n",
       "      <td>6</td>\n",
       "    </tr>\n",
       "    <tr>\n",
       "      <th>PublicEvent</th>\n",
       "      <td>0</td>\n",
       "      <td>4</td>\n",
       "      <td>4</td>\n",
       "      <td>4</td>\n",
       "    </tr>\n",
       "    <tr>\n",
       "      <th>PullRequestEvent</th>\n",
       "      <td>0</td>\n",
       "      <td>31</td>\n",
       "      <td>31</td>\n",
       "      <td>31</td>\n",
       "    </tr>\n",
       "    <tr>\n",
       "      <th>PushEvent</th>\n",
       "      <td>1466</td>\n",
       "      <td>1466</td>\n",
       "      <td>1466</td>\n",
       "      <td>1466</td>\n",
       "    </tr>\n",
       "    <tr>\n",
       "      <th>WatchEvent</th>\n",
       "      <td>30</td>\n",
       "      <td>30</td>\n",
       "      <td>30</td>\n",
       "      <td>30</td>\n",
       "    </tr>\n",
       "  </tbody>\n",
       "</table>\n",
       "</div>"
      ],
      "text/plain": [
       "                    description  repo  time  users\n",
       "type                                              \n",
       "CommitCommentEvent            0     1     1      1\n",
       "CreateEvent                  34    34    34     34\n",
       "DeleteEvent                   0     2     2      2\n",
       "ForkEvent                     0    13    13     13\n",
       "IssueCommentEvent             0    78    78     78\n",
       "IssuesEvent                  34    34    34     34\n",
       "MemberEvent                   0     6     6      6\n",
       "PublicEvent                   0     4     4      4\n",
       "PullRequestEvent              0    31    31     31\n",
       "PushEvent                  1466  1466  1466   1466\n",
       "WatchEvent                   30    30    30     30"
      ]
     },
     "execution_count": 52,
     "metadata": {},
     "output_type": "execute_result"
    }
   ],
   "source": [
    "df_details.pivot_table(index='type', aggfunc='count')"
   ]
  },
  {
   "cell_type": "code",
   "execution_count": 53,
   "metadata": {},
   "outputs": [],
   "source": [
    "events = ['CreateEvent', 'IssueCommentEvent', 'IssuesEvent', 'PullRequestEvent', 'PushEvent', 'WatchEvent']"
   ]
  },
  {
   "cell_type": "code",
   "execution_count": 54,
   "metadata": {},
   "outputs": [],
   "source": [
    "pt_user_event = df_details.pivot_table(\n",
    "    columns='type', index='users', values='time', aggfunc='count')[events].fillna(0)"
   ]
  },
  {
   "cell_type": "code",
   "execution_count": 55,
   "metadata": {},
   "outputs": [
    {
     "data": {
      "text/html": [
       "<div>\n",
       "<style scoped>\n",
       "    .dataframe tbody tr th:only-of-type {\n",
       "        vertical-align: middle;\n",
       "    }\n",
       "\n",
       "    .dataframe tbody tr th {\n",
       "        vertical-align: top;\n",
       "    }\n",
       "\n",
       "    .dataframe thead th {\n",
       "        text-align: right;\n",
       "    }\n",
       "</style>\n",
       "<table border=\"1\" class=\"dataframe\">\n",
       "  <thead>\n",
       "    <tr style=\"text-align: right;\">\n",
       "      <th>type</th>\n",
       "      <th>CreateEvent</th>\n",
       "      <th>IssueCommentEvent</th>\n",
       "      <th>IssuesEvent</th>\n",
       "      <th>PullRequestEvent</th>\n",
       "      <th>PushEvent</th>\n",
       "      <th>WatchEvent</th>\n",
       "    </tr>\n",
       "    <tr>\n",
       "      <th>users</th>\n",
       "      <th></th>\n",
       "      <th></th>\n",
       "      <th></th>\n",
       "      <th></th>\n",
       "      <th></th>\n",
       "      <th></th>\n",
       "    </tr>\n",
       "  </thead>\n",
       "  <tbody>\n",
       "    <tr>\n",
       "      <th>hupili</th>\n",
       "      <td>16.0</td>\n",
       "      <td>43.0</td>\n",
       "      <td>13.0</td>\n",
       "      <td>11.0</td>\n",
       "      <td>47.0</td>\n",
       "      <td>18.0</td>\n",
       "    </tr>\n",
       "    <tr>\n",
       "      <th>ivyWANG958</th>\n",
       "      <td>1.0</td>\n",
       "      <td>14.0</td>\n",
       "      <td>8.0</td>\n",
       "      <td>9.0</td>\n",
       "      <td>43.0</td>\n",
       "      <td>10.0</td>\n",
       "    </tr>\n",
       "    <tr>\n",
       "      <th>dragonmasterhk</th>\n",
       "      <td>1.0</td>\n",
       "      <td>2.0</td>\n",
       "      <td>3.0</td>\n",
       "      <td>0.0</td>\n",
       "      <td>54.0</td>\n",
       "      <td>0.0</td>\n",
       "    </tr>\n",
       "    <tr>\n",
       "      <th>tiffanynys</th>\n",
       "      <td>0.0</td>\n",
       "      <td>2.0</td>\n",
       "      <td>2.0</td>\n",
       "      <td>0.0</td>\n",
       "      <td>60.0</td>\n",
       "      <td>0.0</td>\n",
       "    </tr>\n",
       "    <tr>\n",
       "      <th>JimmyDingyiming</th>\n",
       "      <td>0.0</td>\n",
       "      <td>0.0</td>\n",
       "      <td>2.0</td>\n",
       "      <td>0.0</td>\n",
       "      <td>42.0</td>\n",
       "      <td>0.0</td>\n",
       "    </tr>\n",
       "  </tbody>\n",
       "</table>\n",
       "</div>"
      ],
      "text/plain": [
       "type             CreateEvent  IssueCommentEvent  IssuesEvent  \\\n",
       "users                                                          \n",
       "hupili                  16.0               43.0         13.0   \n",
       "ivyWANG958               1.0               14.0          8.0   \n",
       "dragonmasterhk           1.0                2.0          3.0   \n",
       "tiffanynys               0.0                2.0          2.0   \n",
       "JimmyDingyiming          0.0                0.0          2.0   \n",
       "\n",
       "type             PullRequestEvent  PushEvent  WatchEvent  \n",
       "users                                                     \n",
       "hupili                       11.0       47.0        18.0  \n",
       "ivyWANG958                    9.0       43.0        10.0  \n",
       "dragonmasterhk                0.0       54.0         0.0  \n",
       "tiffanynys                    0.0       60.0         0.0  \n",
       "JimmyDingyiming               0.0       42.0         0.0  "
      ]
     },
     "execution_count": 55,
     "metadata": {},
     "output_type": "execute_result"
    }
   ],
   "source": [
    "pt_user_event.sort_values(by='IssuesEvent', ascending=False)[:5]"
   ]
  },
  {
   "cell_type": "code",
   "execution_count": 56,
   "metadata": {},
   "outputs": [
    {
     "data": {
      "text/html": [
       "<div>\n",
       "<style scoped>\n",
       "    .dataframe tbody tr th:only-of-type {\n",
       "        vertical-align: middle;\n",
       "    }\n",
       "\n",
       "    .dataframe tbody tr th {\n",
       "        vertical-align: top;\n",
       "    }\n",
       "\n",
       "    .dataframe thead th {\n",
       "        text-align: right;\n",
       "    }\n",
       "</style>\n",
       "<table border=\"1\" class=\"dataframe\">\n",
       "  <thead>\n",
       "    <tr style=\"text-align: right;\">\n",
       "      <th>type</th>\n",
       "      <th>CreateEvent</th>\n",
       "      <th>IssueCommentEvent</th>\n",
       "      <th>IssuesEvent</th>\n",
       "      <th>PullRequestEvent</th>\n",
       "      <th>PushEvent</th>\n",
       "      <th>WatchEvent</th>\n",
       "    </tr>\n",
       "    <tr>\n",
       "      <th>users</th>\n",
       "      <th></th>\n",
       "      <th></th>\n",
       "      <th></th>\n",
       "      <th></th>\n",
       "      <th></th>\n",
       "      <th></th>\n",
       "    </tr>\n",
       "  </thead>\n",
       "  <tbody>\n",
       "    <tr>\n",
       "      <th>CheungYanYi</th>\n",
       "      <td>0.0</td>\n",
       "      <td>0.0</td>\n",
       "      <td>0.0</td>\n",
       "      <td>0.0</td>\n",
       "      <td>129.0</td>\n",
       "      <td>0.0</td>\n",
       "    </tr>\n",
       "    <tr>\n",
       "      <th>sinyungli</th>\n",
       "      <td>0.0</td>\n",
       "      <td>0.0</td>\n",
       "      <td>0.0</td>\n",
       "      <td>0.0</td>\n",
       "      <td>128.0</td>\n",
       "      <td>0.0</td>\n",
       "    </tr>\n",
       "    <tr>\n",
       "      <th>SUN08042HanYue</th>\n",
       "      <td>0.0</td>\n",
       "      <td>7.0</td>\n",
       "      <td>2.0</td>\n",
       "      <td>0.0</td>\n",
       "      <td>105.0</td>\n",
       "      <td>0.0</td>\n",
       "    </tr>\n",
       "    <tr>\n",
       "      <th>anakasuji</th>\n",
       "      <td>1.0</td>\n",
       "      <td>0.0</td>\n",
       "      <td>0.0</td>\n",
       "      <td>0.0</td>\n",
       "      <td>103.0</td>\n",
       "      <td>0.0</td>\n",
       "    </tr>\n",
       "    <tr>\n",
       "      <th>ericachinn</th>\n",
       "      <td>0.0</td>\n",
       "      <td>0.0</td>\n",
       "      <td>0.0</td>\n",
       "      <td>0.0</td>\n",
       "      <td>92.0</td>\n",
       "      <td>0.0</td>\n",
       "    </tr>\n",
       "  </tbody>\n",
       "</table>\n",
       "</div>"
      ],
      "text/plain": [
       "type            CreateEvent  IssueCommentEvent  IssuesEvent  PullRequestEvent  \\\n",
       "users                                                                           \n",
       "CheungYanYi             0.0                0.0          0.0               0.0   \n",
       "sinyungli               0.0                0.0          0.0               0.0   \n",
       "SUN08042HanYue          0.0                7.0          2.0               0.0   \n",
       "anakasuji               1.0                0.0          0.0               0.0   \n",
       "ericachinn              0.0                0.0          0.0               0.0   \n",
       "\n",
       "type            PushEvent  WatchEvent  \n",
       "users                                  \n",
       "CheungYanYi         129.0         0.0  \n",
       "sinyungli           128.0         0.0  \n",
       "SUN08042HanYue      105.0         0.0  \n",
       "anakasuji           103.0         0.0  \n",
       "ericachinn           92.0         0.0  "
      ]
     },
     "execution_count": 56,
     "metadata": {},
     "output_type": "execute_result"
    }
   ],
   "source": [
    "pt_user_event.sort_values(by='PushEvent', ascending=False)[:5]"
   ]
  },
  {
   "cell_type": "code",
   "execution_count": 57,
   "metadata": {},
   "outputs": [
    {
     "data": {
      "text/html": [
       "<div>\n",
       "<style scoped>\n",
       "    .dataframe tbody tr th:only-of-type {\n",
       "        vertical-align: middle;\n",
       "    }\n",
       "\n",
       "    .dataframe tbody tr th {\n",
       "        vertical-align: top;\n",
       "    }\n",
       "\n",
       "    .dataframe thead th {\n",
       "        text-align: right;\n",
       "    }\n",
       "</style>\n",
       "<table border=\"1\" class=\"dataframe\">\n",
       "  <thead>\n",
       "    <tr style=\"text-align: right;\">\n",
       "      <th>type</th>\n",
       "      <th>CreateEvent</th>\n",
       "      <th>IssueCommentEvent</th>\n",
       "      <th>IssuesEvent</th>\n",
       "      <th>PullRequestEvent</th>\n",
       "      <th>PushEvent</th>\n",
       "      <th>WatchEvent</th>\n",
       "    </tr>\n",
       "    <tr>\n",
       "      <th>users</th>\n",
       "      <th></th>\n",
       "      <th></th>\n",
       "      <th></th>\n",
       "      <th></th>\n",
       "      <th></th>\n",
       "      <th></th>\n",
       "    </tr>\n",
       "  </thead>\n",
       "  <tbody>\n",
       "    <tr>\n",
       "      <th>hupili</th>\n",
       "      <td>16.0</td>\n",
       "      <td>43.0</td>\n",
       "      <td>13.0</td>\n",
       "      <td>11.0</td>\n",
       "      <td>47.0</td>\n",
       "      <td>18.0</td>\n",
       "    </tr>\n",
       "    <tr>\n",
       "      <th>ivyWANG958</th>\n",
       "      <td>1.0</td>\n",
       "      <td>14.0</td>\n",
       "      <td>8.0</td>\n",
       "      <td>9.0</td>\n",
       "      <td>43.0</td>\n",
       "      <td>10.0</td>\n",
       "    </tr>\n",
       "    <tr>\n",
       "      <th>Felicity2724</th>\n",
       "      <td>3.0</td>\n",
       "      <td>0.0</td>\n",
       "      <td>0.0</td>\n",
       "      <td>0.0</td>\n",
       "      <td>65.0</td>\n",
       "      <td>2.0</td>\n",
       "    </tr>\n",
       "    <tr>\n",
       "      <th>CheungYanYi</th>\n",
       "      <td>0.0</td>\n",
       "      <td>0.0</td>\n",
       "      <td>0.0</td>\n",
       "      <td>0.0</td>\n",
       "      <td>129.0</td>\n",
       "      <td>0.0</td>\n",
       "    </tr>\n",
       "    <tr>\n",
       "      <th>ericachinn</th>\n",
       "      <td>0.0</td>\n",
       "      <td>0.0</td>\n",
       "      <td>0.0</td>\n",
       "      <td>0.0</td>\n",
       "      <td>92.0</td>\n",
       "      <td>0.0</td>\n",
       "    </tr>\n",
       "  </tbody>\n",
       "</table>\n",
       "</div>"
      ],
      "text/plain": [
       "type          CreateEvent  IssueCommentEvent  IssuesEvent  PullRequestEvent  \\\n",
       "users                                                                         \n",
       "hupili               16.0               43.0         13.0              11.0   \n",
       "ivyWANG958            1.0               14.0          8.0               9.0   \n",
       "Felicity2724          3.0                0.0          0.0               0.0   \n",
       "CheungYanYi           0.0                0.0          0.0               0.0   \n",
       "ericachinn            0.0                0.0          0.0               0.0   \n",
       "\n",
       "type          PushEvent  WatchEvent  \n",
       "users                                \n",
       "hupili             47.0        18.0  \n",
       "ivyWANG958         43.0        10.0  \n",
       "Felicity2724       65.0         2.0  \n",
       "CheungYanYi       129.0         0.0  \n",
       "ericachinn         92.0         0.0  "
      ]
     },
     "execution_count": 57,
     "metadata": {},
     "output_type": "execute_result"
    }
   ],
   "source": [
    "pt_user_event.sort_values(by='WatchEvent', ascending=False)[:5]"
   ]
  },
  {
   "cell_type": "code",
   "execution_count": null,
   "metadata": {},
   "outputs": [],
   "source": []
  }
 ],
 "metadata": {
  "kernelspec": {
   "display_name": "Python 3",
   "language": "python",
   "name": "python3"
  },
  "language_info": {
   "codemirror_mode": {
    "name": "ipython",
    "version": 3
   },
   "file_extension": ".py",
   "mimetype": "text/x-python",
   "name": "python",
   "nbconvert_exporter": "python",
   "pygments_lexer": "ipython3",
   "version": "3.7.0"
  }
 },
 "nbformat": 4,
 "nbformat_minor": 2
}
