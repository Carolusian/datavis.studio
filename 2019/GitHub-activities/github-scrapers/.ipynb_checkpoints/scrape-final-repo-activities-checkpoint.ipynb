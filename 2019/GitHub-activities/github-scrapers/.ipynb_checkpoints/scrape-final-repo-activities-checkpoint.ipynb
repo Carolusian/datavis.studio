{
 "cells": [
  {
   "cell_type": "code",
   "execution_count": 1,
   "metadata": {},
   "outputs": [],
   "source": [
    "import requests\n",
    "import pandas as pd\n",
    "df=pd.read_csv('repo-list-final-project.csv')"
   ]
  },
  {
   "cell_type": "markdown",
   "metadata": {},
   "source": [
    "You may change your own github_token in the `config.py`.\n",
    "You can just refer here https://github.com/settings/tokens. click `personal access tokens` --> `generate new token`"
   ]
  },
  {
   "cell_type": "code",
   "execution_count": 2,
   "metadata": {},
   "outputs": [
    {
     "data": {
      "text/plain": [
       "'adc14b4d4916460707774abfff3a8ba989192131'"
      ]
     },
     "execution_count": 2,
     "metadata": {},
     "output_type": "execute_result"
    }
   ],
   "source": [
    "from config import github_token\n",
    "github_token"
   ]
  },
  {
   "cell_type": "code",
   "execution_count": 3,
   "metadata": {},
   "outputs": [
    {
     "data": {
      "text/html": [
       "<div>\n",
       "<style scoped>\n",
       "    .dataframe tbody tr th:only-of-type {\n",
       "        vertical-align: middle;\n",
       "    }\n",
       "\n",
       "    .dataframe tbody tr th {\n",
       "        vertical-align: top;\n",
       "    }\n",
       "\n",
       "    .dataframe thead th {\n",
       "        text-align: right;\n",
       "    }\n",
       "</style>\n",
       "<table border=\"1\" class=\"dataframe\">\n",
       "  <thead>\n",
       "    <tr style=\"text-align: right;\">\n",
       "      <th></th>\n",
       "      <th>team</th>\n",
       "      <th>project url</th>\n",
       "      <th>course code</th>\n",
       "    </tr>\n",
       "  </thead>\n",
       "  <tbody>\n",
       "    <tr>\n",
       "      <th>0</th>\n",
       "      <td>team0</td>\n",
       "      <td>https://github.com/MindyZHAOMinzhu/MindyZHAOMi...</td>\n",
       "      <td>jour2106</td>\n",
       "    </tr>\n",
       "    <tr>\n",
       "      <th>1</th>\n",
       "      <td>team1</td>\n",
       "      <td>https://github.com/Felicity2724/JOUR2106-homework</td>\n",
       "      <td>jour2106</td>\n",
       "    </tr>\n",
       "    <tr>\n",
       "      <th>2</th>\n",
       "      <td>team2</td>\n",
       "      <td>https://github.com/tiffanynys/tiffanynys.githu...</td>\n",
       "      <td>jour2106</td>\n",
       "    </tr>\n",
       "    <tr>\n",
       "      <th>3</th>\n",
       "      <td>team3</td>\n",
       "      <td>https://github.com/Ly-Iris/Ly-Iris.github.io/t...</td>\n",
       "      <td>jour2106</td>\n",
       "    </tr>\n",
       "    <tr>\n",
       "      <th>4</th>\n",
       "      <td>team4</td>\n",
       "      <td>https://github.com/minhanhngg/minhanhngg.githu...</td>\n",
       "      <td>jour2106</td>\n",
       "    </tr>\n",
       "  </tbody>\n",
       "</table>\n",
       "</div>"
      ],
      "text/plain": [
       "    team                                        project url course code\n",
       "0  team0  https://github.com/MindyZHAOMinzhu/MindyZHAOMi...    jour2106\n",
       "1  team1  https://github.com/Felicity2724/JOUR2106-homework    jour2106\n",
       "2  team2  https://github.com/tiffanynys/tiffanynys.githu...    jour2106\n",
       "3  team3  https://github.com/Ly-Iris/Ly-Iris.github.io/t...    jour2106\n",
       "4  team4  https://github.com/minhanhngg/minhanhngg.githu...    jour2106"
      ]
     },
     "execution_count": 3,
     "metadata": {},
     "output_type": "execute_result"
    }
   ],
   "source": [
    "df"
   ]
  },
  {
   "cell_type": "code",
   "execution_count": 4,
   "metadata": {},
   "outputs": [],
   "source": [
    "def get_repo(x):\n",
    "    return x.split('https://github.com/')[-1]\n",
    "\n",
    "repo_list= df['project url'].apply(get_repo)"
   ]
  },
  {
   "cell_type": "code",
   "execution_count": 5,
   "metadata": {},
   "outputs": [
    {
     "data": {
      "text/plain": [
       "0    MindyZHAOMinzhu/MindyZHAOMinzhu.github.io/tree...\n",
       "1                       Felicity2724/JOUR2106-homework\n",
       "2    tiffanynys/tiffanynys.github.io/tree/master/final\n",
       "3    Ly-Iris/Ly-Iris.github.io/tree/master/Elderly%...\n",
       "4    minhanhngg/minhanhngg.github.io/tree/master/ge...\n",
       "Name: project url, dtype: object"
      ]
     },
     "execution_count": 5,
     "metadata": {},
     "output_type": "execute_result"
    }
   ],
   "source": [
    "repo_list"
   ]
  },
  {
   "cell_type": "code",
   "execution_count": 6,
   "metadata": {},
   "outputs": [],
   "source": [
    "def get_activties(repo):\n",
    "    url = 'https://api.github.com/repos/{0}/events?page=1&per_page=100'.format(repo)\n",
    "    \n",
    "    r = requests.get(url,headers={\n",
    "    'User-Agent':'Mozilla/5.0',\n",
    "    'Authorization':'token {0}'.format(github_token),\n",
    "    'Content-Type':'application/json',\n",
    "    'method':'GET',\n",
    "    'Accept':'application/json'\n",
    "    })\n",
    "    content = r.json()\n",
    "    commits = []\n",
    "    for i in range(len(content)):\n",
    "        try:\n",
    "            commit = {}\n",
    "            commit['date'] = content[i]['created_at']\n",
    "            commit['author'] = content[i]['payload']['commits'][0]['author']['name']\n",
    "            commit['event_type'] = content[i]['type']\n",
    "            commit['message'] = content[i]['payload']['commits'][0]['message']\n",
    "            commit['link'] = 'https://github.com/{0}'.format(repo)\n",
    "            commits.append(commit)\n",
    "        except Exception as e:\n",
    "            print(e)\n",
    "            print(url)\n",
    "    return commits"
   ]
  },
  {
   "cell_type": "code",
   "execution_count": 7,
   "metadata": {},
   "outputs": [
    {
     "name": "stdout",
     "output_type": "stream",
     "text": [
      "0\n",
      "https://api.github.com/repos/MindyZHAOMinzhu/MindyZHAOMinzhu.github.io/tree/master/Final%20project/finalwebsite/events?page=1&per_page=100\n",
      "1\n",
      "https://api.github.com/repos/MindyZHAOMinzhu/MindyZHAOMinzhu.github.io/tree/master/Final%20project/finalwebsite/events?page=1&per_page=100\n",
      "'commits'\n",
      "https://api.github.com/repos/Felicity2724/JOUR2106-homework/events?page=1&per_page=100\n",
      "'commits'\n",
      "https://api.github.com/repos/Felicity2724/JOUR2106-homework/events?page=1&per_page=100\n",
      "'commits'\n",
      "https://api.github.com/repos/Felicity2724/JOUR2106-homework/events?page=1&per_page=100\n",
      "'commits'\n",
      "https://api.github.com/repos/Felicity2724/JOUR2106-homework/events?page=1&per_page=100\n",
      "'commits'\n",
      "https://api.github.com/repos/Felicity2724/JOUR2106-homework/events?page=1&per_page=100\n",
      "'commits'\n",
      "https://api.github.com/repos/Felicity2724/JOUR2106-homework/events?page=1&per_page=100\n",
      "'commits'\n",
      "https://api.github.com/repos/Felicity2724/JOUR2106-homework/events?page=1&per_page=100\n",
      "'commits'\n",
      "https://api.github.com/repos/Felicity2724/JOUR2106-homework/events?page=1&per_page=100\n",
      "'commits'\n",
      "https://api.github.com/repos/Felicity2724/JOUR2106-homework/events?page=1&per_page=100\n",
      "'commits'\n",
      "https://api.github.com/repos/Felicity2724/JOUR2106-homework/events?page=1&per_page=100\n",
      "'commits'\n",
      "https://api.github.com/repos/Felicity2724/JOUR2106-homework/events?page=1&per_page=100\n",
      "'commits'\n",
      "https://api.github.com/repos/Felicity2724/JOUR2106-homework/events?page=1&per_page=100\n",
      "'commits'\n",
      "https://api.github.com/repos/Felicity2724/JOUR2106-homework/events?page=1&per_page=100\n",
      "'commits'\n",
      "https://api.github.com/repos/Felicity2724/JOUR2106-homework/events?page=1&per_page=100\n",
      "0\n",
      "https://api.github.com/repos/tiffanynys/tiffanynys.github.io/tree/master/final/events?page=1&per_page=100\n",
      "1\n",
      "https://api.github.com/repos/tiffanynys/tiffanynys.github.io/tree/master/final/events?page=1&per_page=100\n",
      "0\n",
      "https://api.github.com/repos/Ly-Iris/Ly-Iris.github.io/tree/master/Elderly%20in%20HK/events?page=1&per_page=100\n",
      "1\n",
      "https://api.github.com/repos/Ly-Iris/Ly-Iris.github.io/tree/master/Elderly%20in%20HK/events?page=1&per_page=100\n",
      "0\n",
      "https://api.github.com/repos/minhanhngg/minhanhngg.github.io/tree/master/gender-equality/events?page=1&per_page=100\n",
      "1\n",
      "https://api.github.com/repos/minhanhngg/minhanhngg.github.io/tree/master/gender-equality/events?page=1&per_page=100\n"
     ]
    }
   ],
   "source": [
    "all_activities = []\n",
    "for repo in repo_list:\n",
    "    commits = get_activties(repo)\n",
    "    all_activities.extend(commits)"
   ]
  },
  {
   "cell_type": "code",
   "execution_count": 8,
   "metadata": {},
   "outputs": [
    {
     "data": {
      "text/plain": [
       "86"
      ]
     },
     "execution_count": 8,
     "metadata": {},
     "output_type": "execute_result"
    }
   ],
   "source": [
    "len(all_activities)"
   ]
  },
  {
   "cell_type": "code",
   "execution_count": 9,
   "metadata": {},
   "outputs": [],
   "source": [
    "import pandas as pd\n",
    "df2 = pd.DataFrame(all_activities)"
   ]
  },
  {
   "cell_type": "code",
   "execution_count": 10,
   "metadata": {},
   "outputs": [
    {
     "data": {
      "text/html": [
       "<div>\n",
       "<style scoped>\n",
       "    .dataframe tbody tr th:only-of-type {\n",
       "        vertical-align: middle;\n",
       "    }\n",
       "\n",
       "    .dataframe tbody tr th {\n",
       "        vertical-align: top;\n",
       "    }\n",
       "\n",
       "    .dataframe thead th {\n",
       "        text-align: right;\n",
       "    }\n",
       "</style>\n",
       "<table border=\"1\" class=\"dataframe\">\n",
       "  <thead>\n",
       "    <tr style=\"text-align: right;\">\n",
       "      <th></th>\n",
       "      <th>author</th>\n",
       "      <th>date</th>\n",
       "      <th>event_type</th>\n",
       "      <th>link</th>\n",
       "      <th>message</th>\n",
       "    </tr>\n",
       "  </thead>\n",
       "  <tbody>\n",
       "    <tr>\n",
       "      <th>0</th>\n",
       "      <td>rayliurui</td>\n",
       "      <td>2019-05-04T15:40:30Z</td>\n",
       "      <td>PushEvent</td>\n",
       "      <td>https://github.com/Felicity2724/JOUR2106-homework</td>\n",
       "      <td>Update index.html</td>\n",
       "    </tr>\n",
       "    <tr>\n",
       "      <th>1</th>\n",
       "      <td>rayliurui</td>\n",
       "      <td>2019-05-04T15:35:00Z</td>\n",
       "      <td>PushEvent</td>\n",
       "      <td>https://github.com/Felicity2724/JOUR2106-homework</td>\n",
       "      <td>Update index.html</td>\n",
       "    </tr>\n",
       "    <tr>\n",
       "      <th>2</th>\n",
       "      <td>rayliurui</td>\n",
       "      <td>2019-05-04T15:32:25Z</td>\n",
       "      <td>PushEvent</td>\n",
       "      <td>https://github.com/Felicity2724/JOUR2106-homework</td>\n",
       "      <td>Add files via upload</td>\n",
       "    </tr>\n",
       "    <tr>\n",
       "      <th>3</th>\n",
       "      <td>rayliurui</td>\n",
       "      <td>2019-05-03T20:25:11Z</td>\n",
       "      <td>PushEvent</td>\n",
       "      <td>https://github.com/Felicity2724/JOUR2106-homework</td>\n",
       "      <td>Update index.html</td>\n",
       "    </tr>\n",
       "    <tr>\n",
       "      <th>4</th>\n",
       "      <td>rayliurui</td>\n",
       "      <td>2019-05-03T20:23:51Z</td>\n",
       "      <td>PushEvent</td>\n",
       "      <td>https://github.com/Felicity2724/JOUR2106-homework</td>\n",
       "      <td>Update index.html</td>\n",
       "    </tr>\n",
       "  </tbody>\n",
       "</table>\n",
       "</div>"
      ],
      "text/plain": [
       "      author                  date event_type  \\\n",
       "0  rayliurui  2019-05-04T15:40:30Z  PushEvent   \n",
       "1  rayliurui  2019-05-04T15:35:00Z  PushEvent   \n",
       "2  rayliurui  2019-05-04T15:32:25Z  PushEvent   \n",
       "3  rayliurui  2019-05-03T20:25:11Z  PushEvent   \n",
       "4  rayliurui  2019-05-03T20:23:51Z  PushEvent   \n",
       "\n",
       "                                                link               message  \n",
       "0  https://github.com/Felicity2724/JOUR2106-homework     Update index.html  \n",
       "1  https://github.com/Felicity2724/JOUR2106-homework     Update index.html  \n",
       "2  https://github.com/Felicity2724/JOUR2106-homework  Add files via upload  \n",
       "3  https://github.com/Felicity2724/JOUR2106-homework     Update index.html  \n",
       "4  https://github.com/Felicity2724/JOUR2106-homework     Update index.html  "
      ]
     },
     "execution_count": 10,
     "metadata": {},
     "output_type": "execute_result"
    }
   ],
   "source": [
    "df2.head()"
   ]
  },
  {
   "cell_type": "code",
   "execution_count": 11,
   "metadata": {},
   "outputs": [],
   "source": [
    "df2.to_csv('../data/final-repos-activities.csv',index=None)"
   ]
  },
  {
   "cell_type": "code",
   "execution_count": null,
   "metadata": {},
   "outputs": [],
   "source": []
  }
 ],
 "metadata": {
  "kernelspec": {
   "display_name": "Python 3",
   "language": "python",
   "name": "python3"
  },
  "language_info": {
   "codemirror_mode": {
    "name": "ipython",
    "version": 3
   },
   "file_extension": ".py",
   "mimetype": "text/x-python",
   "name": "python",
   "nbconvert_exporter": "python",
   "pygments_lexer": "ipython3",
   "version": "3.7.0"
  }
 },
 "nbformat": 4,
 "nbformat_minor": 2
}
