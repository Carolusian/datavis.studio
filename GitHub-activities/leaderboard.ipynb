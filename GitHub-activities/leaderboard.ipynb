{
 "cells": [
  {
   "cell_type": "markdown",
   "metadata": {},
   "source": [
    "# Leader board\n",
    "\n",
    "The leader board of student activities of JOUR2106"
   ]
  },
  {
   "cell_type": "code",
   "execution_count": 3,
   "metadata": {},
   "outputs": [],
   "source": [
    "import pandas as pd\n",
    "import matplotlib\n",
    "%matplotlib inline"
   ]
  },
  {
   "cell_type": "code",
   "execution_count": 4,
   "metadata": {},
   "outputs": [],
   "source": [
    "#!pip install matplotlib"
   ]
  },
  {
   "cell_type": "markdown",
   "metadata": {},
   "source": [
    "## Basic checkup"
   ]
  },
  {
   "cell_type": "code",
   "execution_count": 5,
   "metadata": {},
   "outputs": [],
   "source": [
    "df = pd.read_csv('data/user-contributions.csv')"
   ]
  },
  {
   "cell_type": "code",
   "execution_count": 6,
   "metadata": {},
   "outputs": [
    {
     "data": {
      "text/plain": [
       "2700"
      ]
     },
     "execution_count": 6,
     "metadata": {},
     "output_type": "execute_result"
    }
   ],
   "source": [
    "len(df)"
   ]
  },
  {
   "cell_type": "code",
   "execution_count": 7,
   "metadata": {},
   "outputs": [
    {
     "data": {
      "text/plain": [
       "Index(['data-count', 'data-date', 'url'], dtype='object')"
      ]
     },
     "execution_count": 7,
     "metadata": {},
     "output_type": "execute_result"
    }
   ],
   "source": [
    "df.columns"
   ]
  },
  {
   "cell_type": "code",
   "execution_count": 8,
   "metadata": {},
   "outputs": [
    {
     "data": {
      "text/html": [
       "<div>\n",
       "<style scoped>\n",
       "    .dataframe tbody tr th:only-of-type {\n",
       "        vertical-align: middle;\n",
       "    }\n",
       "\n",
       "    .dataframe tbody tr th {\n",
       "        vertical-align: top;\n",
       "    }\n",
       "\n",
       "    .dataframe thead th {\n",
       "        text-align: right;\n",
       "    }\n",
       "</style>\n",
       "<table border=\"1\" class=\"dataframe\">\n",
       "  <thead>\n",
       "    <tr style=\"text-align: right;\">\n",
       "      <th></th>\n",
       "      <th>data-count</th>\n",
       "      <th>data-date</th>\n",
       "      <th>url</th>\n",
       "    </tr>\n",
       "  </thead>\n",
       "  <tbody>\n",
       "    <tr>\n",
       "      <th>0</th>\n",
       "      <td>0</td>\n",
       "      <td>2019-01-08</td>\n",
       "      <td>https://github.com/angiecwl</td>\n",
       "    </tr>\n",
       "    <tr>\n",
       "      <th>1</th>\n",
       "      <td>0</td>\n",
       "      <td>2019-01-09</td>\n",
       "      <td>https://github.com/angiecwl</td>\n",
       "    </tr>\n",
       "    <tr>\n",
       "      <th>2</th>\n",
       "      <td>0</td>\n",
       "      <td>2019-01-10</td>\n",
       "      <td>https://github.com/angiecwl</td>\n",
       "    </tr>\n",
       "    <tr>\n",
       "      <th>3</th>\n",
       "      <td>0</td>\n",
       "      <td>2019-01-11</td>\n",
       "      <td>https://github.com/angiecwl</td>\n",
       "    </tr>\n",
       "    <tr>\n",
       "      <th>4</th>\n",
       "      <td>0</td>\n",
       "      <td>2019-01-12</td>\n",
       "      <td>https://github.com/angiecwl</td>\n",
       "    </tr>\n",
       "  </tbody>\n",
       "</table>\n",
       "</div>"
      ],
      "text/plain": [
       "   data-count   data-date                          url\n",
       "0           0  2019-01-08  https://github.com/angiecwl\n",
       "1           0  2019-01-09  https://github.com/angiecwl\n",
       "2           0  2019-01-10  https://github.com/angiecwl\n",
       "3           0  2019-01-11  https://github.com/angiecwl\n",
       "4           0  2019-01-12  https://github.com/angiecwl"
      ]
     },
     "execution_count": 8,
     "metadata": {},
     "output_type": "execute_result"
    }
   ],
   "source": [
    "df.head()"
   ]
  },
  {
   "cell_type": "code",
   "execution_count": 9,
   "metadata": {},
   "outputs": [
    {
     "data": {
      "text/html": [
       "<div>\n",
       "<style scoped>\n",
       "    .dataframe tbody tr th:only-of-type {\n",
       "        vertical-align: middle;\n",
       "    }\n",
       "\n",
       "    .dataframe tbody tr th {\n",
       "        vertical-align: top;\n",
       "    }\n",
       "\n",
       "    .dataframe thead th {\n",
       "        text-align: right;\n",
       "    }\n",
       "</style>\n",
       "<table border=\"1\" class=\"dataframe\">\n",
       "  <thead>\n",
       "    <tr style=\"text-align: right;\">\n",
       "      <th></th>\n",
       "      <th>data-count</th>\n",
       "      <th>data-date</th>\n",
       "      <th>url</th>\n",
       "    </tr>\n",
       "  </thead>\n",
       "  <tbody>\n",
       "    <tr>\n",
       "      <th>2695</th>\n",
       "      <td>0</td>\n",
       "      <td>2019-04-21</td>\n",
       "      <td>https://github.com/hupili</td>\n",
       "    </tr>\n",
       "    <tr>\n",
       "      <th>2696</th>\n",
       "      <td>0</td>\n",
       "      <td>2019-04-22</td>\n",
       "      <td>https://github.com/hupili</td>\n",
       "    </tr>\n",
       "    <tr>\n",
       "      <th>2697</th>\n",
       "      <td>0</td>\n",
       "      <td>2019-04-23</td>\n",
       "      <td>https://github.com/hupili</td>\n",
       "    </tr>\n",
       "    <tr>\n",
       "      <th>2698</th>\n",
       "      <td>0</td>\n",
       "      <td>2019-04-24</td>\n",
       "      <td>https://github.com/hupili</td>\n",
       "    </tr>\n",
       "    <tr>\n",
       "      <th>2699</th>\n",
       "      <td>0</td>\n",
       "      <td>2019-04-25</td>\n",
       "      <td>https://github.com/hupili</td>\n",
       "    </tr>\n",
       "  </tbody>\n",
       "</table>\n",
       "</div>"
      ],
      "text/plain": [
       "      data-count   data-date                        url\n",
       "2695           0  2019-04-21  https://github.com/hupili\n",
       "2696           0  2019-04-22  https://github.com/hupili\n",
       "2697           0  2019-04-23  https://github.com/hupili\n",
       "2698           0  2019-04-24  https://github.com/hupili\n",
       "2699           0  2019-04-25  https://github.com/hupili"
      ]
     },
     "execution_count": 9,
     "metadata": {},
     "output_type": "execute_result"
    }
   ],
   "source": [
    "df.tail()"
   ]
  },
  {
   "cell_type": "code",
   "execution_count": 10,
   "metadata": {},
   "outputs": [
    {
     "data": {
      "text/plain": [
       "dtype('int64')"
      ]
     },
     "execution_count": 10,
     "metadata": {},
     "output_type": "execute_result"
    }
   ],
   "source": [
    "df['data-count'].dtype"
   ]
  },
  {
   "cell_type": "code",
   "execution_count": 11,
   "metadata": {},
   "outputs": [
    {
     "data": {
      "text/plain": [
       "dtype('O')"
      ]
     },
     "execution_count": 11,
     "metadata": {},
     "output_type": "execute_result"
    }
   ],
   "source": [
    "df['data-date'].dtype"
   ]
  },
  {
   "cell_type": "code",
   "execution_count": 12,
   "metadata": {},
   "outputs": [
    {
     "data": {
      "text/plain": [
       "dtype('O')"
      ]
     },
     "execution_count": 12,
     "metadata": {},
     "output_type": "execute_result"
    }
   ],
   "source": [
    "df['url'].dtype"
   ]
  },
  {
   "cell_type": "markdown",
   "metadata": {},
   "source": [
    "## Time Series"
   ]
  },
  {
   "cell_type": "code",
   "execution_count": 13,
   "metadata": {},
   "outputs": [],
   "source": [
    "from dateutil.parser import parse"
   ]
  },
  {
   "cell_type": "code",
   "execution_count": 14,
   "metadata": {},
   "outputs": [
    {
     "data": {
      "text/plain": [
       "<function dateutil.parser._parser.parse(timestr, parserinfo=None, **kwargs)>"
      ]
     },
     "execution_count": 14,
     "metadata": {},
     "output_type": "execute_result"
    }
   ],
   "source": [
    "parse"
   ]
  },
  {
   "cell_type": "code",
   "execution_count": 15,
   "metadata": {},
   "outputs": [
    {
     "data": {
      "text/plain": [
       "str"
      ]
     },
     "execution_count": 15,
     "metadata": {},
     "output_type": "execute_result"
    }
   ],
   "source": [
    "type(df['data-date'][0])"
   ]
  },
  {
   "cell_type": "code",
   "execution_count": 16,
   "metadata": {},
   "outputs": [
    {
     "data": {
      "text/plain": [
       "datetime.datetime(2019, 1, 8, 0, 0)"
      ]
     },
     "execution_count": 16,
     "metadata": {},
     "output_type": "execute_result"
    }
   ],
   "source": [
    "parse(df['data-date'][0])"
   ]
  },
  {
   "cell_type": "code",
   "execution_count": 17,
   "metadata": {},
   "outputs": [],
   "source": [
    "df['datetime'] = df['data-date'].apply(parse)"
   ]
  },
  {
   "cell_type": "code",
   "execution_count": 18,
   "metadata": {},
   "outputs": [
    {
     "data": {
      "text/plain": [
       "str"
      ]
     },
     "execution_count": 18,
     "metadata": {},
     "output_type": "execute_result"
    }
   ],
   "source": [
    "type(df['data-date'][0])"
   ]
  },
  {
   "cell_type": "code",
   "execution_count": 19,
   "metadata": {},
   "outputs": [
    {
     "data": {
      "text/plain": [
       "pandas._libs.tslibs.timestamps.Timestamp"
      ]
     },
     "execution_count": 19,
     "metadata": {},
     "output_type": "execute_result"
    }
   ],
   "source": [
    "type(df['datetime'][0])"
   ]
  },
  {
   "cell_type": "code",
   "execution_count": 20,
   "metadata": {},
   "outputs": [],
   "source": [
    "# .groupby().aggregate()"
   ]
  },
  {
   "cell_type": "code",
   "execution_count": 22,
   "metadata": {},
   "outputs": [
    {
     "data": {
      "text/plain": [
       "<matplotlib.axes._subplots.AxesSubplot at 0x10e7e77f0>"
      ]
     },
     "execution_count": 22,
     "metadata": {},
     "output_type": "execute_result"
    },
    {
     "data": {
      "image/png": "[encoded data removed]",
      "text/plain": [
       "<Figure size 432x288 with 1 Axes>"
      ]
     },
     "metadata": {
      "needs_background": "light"
     },
     "output_type": "display_data"
    }
   ],
   "source": [
    "df.set_index('datetime').resample('1w').aggregate('sum').plot()"
   ]
  },
  {
   "cell_type": "code",
   "execution_count": 23,
   "metadata": {},
   "outputs": [
    {
     "data": {
      "text/html": [
       "<div>\n",
       "<style scoped>\n",
       "    .dataframe tbody tr th:only-of-type {\n",
       "        vertical-align: middle;\n",
       "    }\n",
       "\n",
       "    .dataframe tbody tr th {\n",
       "        vertical-align: top;\n",
       "    }\n",
       "\n",
       "    .dataframe thead th {\n",
       "        text-align: right;\n",
       "    }\n",
       "</style>\n",
       "<table border=\"1\" class=\"dataframe\">\n",
       "  <thead>\n",
       "    <tr style=\"text-align: right;\">\n",
       "      <th></th>\n",
       "      <th>data-count</th>\n",
       "      <th>data-date</th>\n",
       "      <th>url</th>\n",
       "      <th>datetime</th>\n",
       "    </tr>\n",
       "  </thead>\n",
       "  <tbody>\n",
       "    <tr>\n",
       "      <th>0</th>\n",
       "      <td>0</td>\n",
       "      <td>2019-01-08</td>\n",
       "      <td>https://github.com/angiecwl</td>\n",
       "      <td>2019-01-08</td>\n",
       "    </tr>\n",
       "    <tr>\n",
       "      <th>1</th>\n",
       "      <td>0</td>\n",
       "      <td>2019-01-09</td>\n",
       "      <td>https://github.com/angiecwl</td>\n",
       "      <td>2019-01-09</td>\n",
       "    </tr>\n",
       "    <tr>\n",
       "      <th>2</th>\n",
       "      <td>0</td>\n",
       "      <td>2019-01-10</td>\n",
       "      <td>https://github.com/angiecwl</td>\n",
       "      <td>2019-01-10</td>\n",
       "    </tr>\n",
       "    <tr>\n",
       "      <th>3</th>\n",
       "      <td>0</td>\n",
       "      <td>2019-01-11</td>\n",
       "      <td>https://github.com/angiecwl</td>\n",
       "      <td>2019-01-11</td>\n",
       "    </tr>\n",
       "    <tr>\n",
       "      <th>4</th>\n",
       "      <td>0</td>\n",
       "      <td>2019-01-12</td>\n",
       "      <td>https://github.com/angiecwl</td>\n",
       "      <td>2019-01-12</td>\n",
       "    </tr>\n",
       "    <tr>\n",
       "      <th>5</th>\n",
       "      <td>0</td>\n",
       "      <td>2019-01-13</td>\n",
       "      <td>https://github.com/angiecwl</td>\n",
       "      <td>2019-01-13</td>\n",
       "    </tr>\n",
       "    <tr>\n",
       "      <th>6</th>\n",
       "      <td>0</td>\n",
       "      <td>2019-01-14</td>\n",
       "      <td>https://github.com/angiecwl</td>\n",
       "      <td>2019-01-14</td>\n",
       "    </tr>\n",
       "    <tr>\n",
       "      <th>7</th>\n",
       "      <td>0</td>\n",
       "      <td>2019-01-15</td>\n",
       "      <td>https://github.com/angiecwl</td>\n",
       "      <td>2019-01-15</td>\n",
       "    </tr>\n",
       "    <tr>\n",
       "      <th>8</th>\n",
       "      <td>0</td>\n",
       "      <td>2019-01-16</td>\n",
       "      <td>https://github.com/angiecwl</td>\n",
       "      <td>2019-01-16</td>\n",
       "    </tr>\n",
       "    <tr>\n",
       "      <th>9</th>\n",
       "      <td>0</td>\n",
       "      <td>2019-01-17</td>\n",
       "      <td>https://github.com/angiecwl</td>\n",
       "      <td>2019-01-17</td>\n",
       "    </tr>\n",
       "    <tr>\n",
       "      <th>10</th>\n",
       "      <td>0</td>\n",
       "      <td>2019-01-18</td>\n",
       "      <td>https://github.com/angiecwl</td>\n",
       "      <td>2019-01-18</td>\n",
       "    </tr>\n",
       "    <tr>\n",
       "      <th>11</th>\n",
       "      <td>0</td>\n",
       "      <td>2019-01-19</td>\n",
       "      <td>https://github.com/angiecwl</td>\n",
       "      <td>2019-01-19</td>\n",
       "    </tr>\n",
       "    <tr>\n",
       "      <th>12</th>\n",
       "      <td>0</td>\n",
       "      <td>2019-01-20</td>\n",
       "      <td>https://github.com/angiecwl</td>\n",
       "      <td>2019-01-20</td>\n",
       "    </tr>\n",
       "    <tr>\n",
       "      <th>13</th>\n",
       "      <td>0</td>\n",
       "      <td>2019-01-21</td>\n",
       "      <td>https://github.com/angiecwl</td>\n",
       "      <td>2019-01-21</td>\n",
       "    </tr>\n",
       "    <tr>\n",
       "      <th>14</th>\n",
       "      <td>0</td>\n",
       "      <td>2019-01-22</td>\n",
       "      <td>https://github.com/angiecwl</td>\n",
       "      <td>2019-01-22</td>\n",
       "    </tr>\n",
       "    <tr>\n",
       "      <th>15</th>\n",
       "      <td>0</td>\n",
       "      <td>2019-01-23</td>\n",
       "      <td>https://github.com/angiecwl</td>\n",
       "      <td>2019-01-23</td>\n",
       "    </tr>\n",
       "    <tr>\n",
       "      <th>16</th>\n",
       "      <td>0</td>\n",
       "      <td>2019-01-24</td>\n",
       "      <td>https://github.com/angiecwl</td>\n",
       "      <td>2019-01-24</td>\n",
       "    </tr>\n",
       "    <tr>\n",
       "      <th>17</th>\n",
       "      <td>0</td>\n",
       "      <td>2019-01-25</td>\n",
       "      <td>https://github.com/angiecwl</td>\n",
       "      <td>2019-01-25</td>\n",
       "    </tr>\n",
       "    <tr>\n",
       "      <th>18</th>\n",
       "      <td>9</td>\n",
       "      <td>2019-01-26</td>\n",
       "      <td>https://github.com/angiecwl</td>\n",
       "      <td>2019-01-26</td>\n",
       "    </tr>\n",
       "    <tr>\n",
       "      <th>19</th>\n",
       "      <td>0</td>\n",
       "      <td>2019-01-27</td>\n",
       "      <td>https://github.com/angiecwl</td>\n",
       "      <td>2019-01-27</td>\n",
       "    </tr>\n",
       "    <tr>\n",
       "      <th>20</th>\n",
       "      <td>0</td>\n",
       "      <td>2019-01-28</td>\n",
       "      <td>https://github.com/angiecwl</td>\n",
       "      <td>2019-01-28</td>\n",
       "    </tr>\n",
       "    <tr>\n",
       "      <th>21</th>\n",
       "      <td>0</td>\n",
       "      <td>2019-01-29</td>\n",
       "      <td>https://github.com/angiecwl</td>\n",
       "      <td>2019-01-29</td>\n",
       "    </tr>\n",
       "    <tr>\n",
       "      <th>22</th>\n",
       "      <td>0</td>\n",
       "      <td>2019-01-30</td>\n",
       "      <td>https://github.com/angiecwl</td>\n",
       "      <td>2019-01-30</td>\n",
       "    </tr>\n",
       "    <tr>\n",
       "      <th>23</th>\n",
       "      <td>0</td>\n",
       "      <td>2019-01-31</td>\n",
       "      <td>https://github.com/angiecwl</td>\n",
       "      <td>2019-01-31</td>\n",
       "    </tr>\n",
       "    <tr>\n",
       "      <th>24</th>\n",
       "      <td>0</td>\n",
       "      <td>2019-02-01</td>\n",
       "      <td>https://github.com/angiecwl</td>\n",
       "      <td>2019-02-01</td>\n",
       "    </tr>\n",
       "    <tr>\n",
       "      <th>25</th>\n",
       "      <td>6</td>\n",
       "      <td>2019-02-02</td>\n",
       "      <td>https://github.com/angiecwl</td>\n",
       "      <td>2019-02-02</td>\n",
       "    </tr>\n",
       "    <tr>\n",
       "      <th>26</th>\n",
       "      <td>0</td>\n",
       "      <td>2019-02-03</td>\n",
       "      <td>https://github.com/angiecwl</td>\n",
       "      <td>2019-02-03</td>\n",
       "    </tr>\n",
       "    <tr>\n",
       "      <th>27</th>\n",
       "      <td>0</td>\n",
       "      <td>2019-02-04</td>\n",
       "      <td>https://github.com/angiecwl</td>\n",
       "      <td>2019-02-04</td>\n",
       "    </tr>\n",
       "    <tr>\n",
       "      <th>28</th>\n",
       "      <td>0</td>\n",
       "      <td>2019-02-05</td>\n",
       "      <td>https://github.com/angiecwl</td>\n",
       "      <td>2019-02-05</td>\n",
       "    </tr>\n",
       "    <tr>\n",
       "      <th>29</th>\n",
       "      <td>0</td>\n",
       "      <td>2019-02-06</td>\n",
       "      <td>https://github.com/angiecwl</td>\n",
       "      <td>2019-02-06</td>\n",
       "    </tr>\n",
       "    <tr>\n",
       "      <th>...</th>\n",
       "      <td>...</td>\n",
       "      <td>...</td>\n",
       "      <td>...</td>\n",
       "      <td>...</td>\n",
       "    </tr>\n",
       "    <tr>\n",
       "      <th>2670</th>\n",
       "      <td>0</td>\n",
       "      <td>2019-03-27</td>\n",
       "      <td>https://github.com/hupili</td>\n",
       "      <td>2019-03-27</td>\n",
       "    </tr>\n",
       "    <tr>\n",
       "      <th>2671</th>\n",
       "      <td>0</td>\n",
       "      <td>2019-03-28</td>\n",
       "      <td>https://github.com/hupili</td>\n",
       "      <td>2019-03-28</td>\n",
       "    </tr>\n",
       "    <tr>\n",
       "      <th>2672</th>\n",
       "      <td>0</td>\n",
       "      <td>2019-03-29</td>\n",
       "      <td>https://github.com/hupili</td>\n",
       "      <td>2019-03-29</td>\n",
       "    </tr>\n",
       "    <tr>\n",
       "      <th>2673</th>\n",
       "      <td>0</td>\n",
       "      <td>2019-03-30</td>\n",
       "      <td>https://github.com/hupili</td>\n",
       "      <td>2019-03-30</td>\n",
       "    </tr>\n",
       "    <tr>\n",
       "      <th>2674</th>\n",
       "      <td>2</td>\n",
       "      <td>2019-03-31</td>\n",
       "      <td>https://github.com/hupili</td>\n",
       "      <td>2019-03-31</td>\n",
       "    </tr>\n",
       "    <tr>\n",
       "      <th>2675</th>\n",
       "      <td>0</td>\n",
       "      <td>2019-04-01</td>\n",
       "      <td>https://github.com/hupili</td>\n",
       "      <td>2019-04-01</td>\n",
       "    </tr>\n",
       "    <tr>\n",
       "      <th>2676</th>\n",
       "      <td>0</td>\n",
       "      <td>2019-04-02</td>\n",
       "      <td>https://github.com/hupili</td>\n",
       "      <td>2019-04-02</td>\n",
       "    </tr>\n",
       "    <tr>\n",
       "      <th>2677</th>\n",
       "      <td>0</td>\n",
       "      <td>2019-04-03</td>\n",
       "      <td>https://github.com/hupili</td>\n",
       "      <td>2019-04-03</td>\n",
       "    </tr>\n",
       "    <tr>\n",
       "      <th>2678</th>\n",
       "      <td>0</td>\n",
       "      <td>2019-04-04</td>\n",
       "      <td>https://github.com/hupili</td>\n",
       "      <td>2019-04-04</td>\n",
       "    </tr>\n",
       "    <tr>\n",
       "      <th>2679</th>\n",
       "      <td>0</td>\n",
       "      <td>2019-04-05</td>\n",
       "      <td>https://github.com/hupili</td>\n",
       "      <td>2019-04-05</td>\n",
       "    </tr>\n",
       "    <tr>\n",
       "      <th>2680</th>\n",
       "      <td>0</td>\n",
       "      <td>2019-04-06</td>\n",
       "      <td>https://github.com/hupili</td>\n",
       "      <td>2019-04-06</td>\n",
       "    </tr>\n",
       "    <tr>\n",
       "      <th>2681</th>\n",
       "      <td>6</td>\n",
       "      <td>2019-04-07</td>\n",
       "      <td>https://github.com/hupili</td>\n",
       "      <td>2019-04-07</td>\n",
       "    </tr>\n",
       "    <tr>\n",
       "      <th>2682</th>\n",
       "      <td>0</td>\n",
       "      <td>2019-04-08</td>\n",
       "      <td>https://github.com/hupili</td>\n",
       "      <td>2019-04-08</td>\n",
       "    </tr>\n",
       "    <tr>\n",
       "      <th>2683</th>\n",
       "      <td>0</td>\n",
       "      <td>2019-04-09</td>\n",
       "      <td>https://github.com/hupili</td>\n",
       "      <td>2019-04-09</td>\n",
       "    </tr>\n",
       "    <tr>\n",
       "      <th>2684</th>\n",
       "      <td>0</td>\n",
       "      <td>2019-04-10</td>\n",
       "      <td>https://github.com/hupili</td>\n",
       "      <td>2019-04-10</td>\n",
       "    </tr>\n",
       "    <tr>\n",
       "      <th>2685</th>\n",
       "      <td>0</td>\n",
       "      <td>2019-04-11</td>\n",
       "      <td>https://github.com/hupili</td>\n",
       "      <td>2019-04-11</td>\n",
       "    </tr>\n",
       "    <tr>\n",
       "      <th>2686</th>\n",
       "      <td>1</td>\n",
       "      <td>2019-04-12</td>\n",
       "      <td>https://github.com/hupili</td>\n",
       "      <td>2019-04-12</td>\n",
       "    </tr>\n",
       "    <tr>\n",
       "      <th>2687</th>\n",
       "      <td>0</td>\n",
       "      <td>2019-04-13</td>\n",
       "      <td>https://github.com/hupili</td>\n",
       "      <td>2019-04-13</td>\n",
       "    </tr>\n",
       "    <tr>\n",
       "      <th>2688</th>\n",
       "      <td>4</td>\n",
       "      <td>2019-04-14</td>\n",
       "      <td>https://github.com/hupili</td>\n",
       "      <td>2019-04-14</td>\n",
       "    </tr>\n",
       "    <tr>\n",
       "      <th>2689</th>\n",
       "      <td>0</td>\n",
       "      <td>2019-04-15</td>\n",
       "      <td>https://github.com/hupili</td>\n",
       "      <td>2019-04-15</td>\n",
       "    </tr>\n",
       "    <tr>\n",
       "      <th>2690</th>\n",
       "      <td>0</td>\n",
       "      <td>2019-04-16</td>\n",
       "      <td>https://github.com/hupili</td>\n",
       "      <td>2019-04-16</td>\n",
       "    </tr>\n",
       "    <tr>\n",
       "      <th>2691</th>\n",
       "      <td>0</td>\n",
       "      <td>2019-04-17</td>\n",
       "      <td>https://github.com/hupili</td>\n",
       "      <td>2019-04-17</td>\n",
       "    </tr>\n",
       "    <tr>\n",
       "      <th>2692</th>\n",
       "      <td>0</td>\n",
       "      <td>2019-04-18</td>\n",
       "      <td>https://github.com/hupili</td>\n",
       "      <td>2019-04-18</td>\n",
       "    </tr>\n",
       "    <tr>\n",
       "      <th>2693</th>\n",
       "      <td>0</td>\n",
       "      <td>2019-04-19</td>\n",
       "      <td>https://github.com/hupili</td>\n",
       "      <td>2019-04-19</td>\n",
       "    </tr>\n",
       "    <tr>\n",
       "      <th>2694</th>\n",
       "      <td>0</td>\n",
       "      <td>2019-04-20</td>\n",
       "      <td>https://github.com/hupili</td>\n",
       "      <td>2019-04-20</td>\n",
       "    </tr>\n",
       "    <tr>\n",
       "      <th>2695</th>\n",
       "      <td>0</td>\n",
       "      <td>2019-04-21</td>\n",
       "      <td>https://github.com/hupili</td>\n",
       "      <td>2019-04-21</td>\n",
       "    </tr>\n",
       "    <tr>\n",
       "      <th>2696</th>\n",
       "      <td>0</td>\n",
       "      <td>2019-04-22</td>\n",
       "      <td>https://github.com/hupili</td>\n",
       "      <td>2019-04-22</td>\n",
       "    </tr>\n",
       "    <tr>\n",
       "      <th>2697</th>\n",
       "      <td>0</td>\n",
       "      <td>2019-04-23</td>\n",
       "      <td>https://github.com/hupili</td>\n",
       "      <td>2019-04-23</td>\n",
       "    </tr>\n",
       "    <tr>\n",
       "      <th>2698</th>\n",
       "      <td>0</td>\n",
       "      <td>2019-04-24</td>\n",
       "      <td>https://github.com/hupili</td>\n",
       "      <td>2019-04-24</td>\n",
       "    </tr>\n",
       "    <tr>\n",
       "      <th>2699</th>\n",
       "      <td>0</td>\n",
       "      <td>2019-04-25</td>\n",
       "      <td>https://github.com/hupili</td>\n",
       "      <td>2019-04-25</td>\n",
       "    </tr>\n",
       "  </tbody>\n",
       "</table>\n",
       "<p>2700 rows × 4 columns</p>\n",
       "</div>"
      ],
      "text/plain": [
       "      data-count   data-date                          url   datetime\n",
       "0              0  2019-01-08  https://github.com/angiecwl 2019-01-08\n",
       "1              0  2019-01-09  https://github.com/angiecwl 2019-01-09\n",
       "2              0  2019-01-10  https://github.com/angiecwl 2019-01-10\n",
       "3              0  2019-01-11  https://github.com/angiecwl 2019-01-11\n",
       "4              0  2019-01-12  https://github.com/angiecwl 2019-01-12\n",
       "5              0  2019-01-13  https://github.com/angiecwl 2019-01-13\n",
       "6              0  2019-01-14  https://github.com/angiecwl 2019-01-14\n",
       "7              0  2019-01-15  https://github.com/angiecwl 2019-01-15\n",
       "8              0  2019-01-16  https://github.com/angiecwl 2019-01-16\n",
       "9              0  2019-01-17  https://github.com/angiecwl 2019-01-17\n",
       "10             0  2019-01-18  https://github.com/angiecwl 2019-01-18\n",
       "11             0  2019-01-19  https://github.com/angiecwl 2019-01-19\n",
       "12             0  2019-01-20  https://github.com/angiecwl 2019-01-20\n",
       "13             0  2019-01-21  https://github.com/angiecwl 2019-01-21\n",
       "14             0  2019-01-22  https://github.com/angiecwl 2019-01-22\n",
       "15             0  2019-01-23  https://github.com/angiecwl 2019-01-23\n",
       "16             0  2019-01-24  https://github.com/angiecwl 2019-01-24\n",
       "17             0  2019-01-25  https://github.com/angiecwl 2019-01-25\n",
       "18             9  2019-01-26  https://github.com/angiecwl 2019-01-26\n",
       "19             0  2019-01-27  https://github.com/angiecwl 2019-01-27\n",
       "20             0  2019-01-28  https://github.com/angiecwl 2019-01-28\n",
       "21             0  2019-01-29  https://github.com/angiecwl 2019-01-29\n",
       "22             0  2019-01-30  https://github.com/angiecwl 2019-01-30\n",
       "23             0  2019-01-31  https://github.com/angiecwl 2019-01-31\n",
       "24             0  2019-02-01  https://github.com/angiecwl 2019-02-01\n",
       "25             6  2019-02-02  https://github.com/angiecwl 2019-02-02\n",
       "26             0  2019-02-03  https://github.com/angiecwl 2019-02-03\n",
       "27             0  2019-02-04  https://github.com/angiecwl 2019-02-04\n",
       "28             0  2019-02-05  https://github.com/angiecwl 2019-02-05\n",
       "29             0  2019-02-06  https://github.com/angiecwl 2019-02-06\n",
       "...          ...         ...                          ...        ...\n",
       "2670           0  2019-03-27    https://github.com/hupili 2019-03-27\n",
       "2671           0  2019-03-28    https://github.com/hupili 2019-03-28\n",
       "2672           0  2019-03-29    https://github.com/hupili 2019-03-29\n",
       "2673           0  2019-03-30    https://github.com/hupili 2019-03-30\n",
       "2674           2  2019-03-31    https://github.com/hupili 2019-03-31\n",
       "2675           0  2019-04-01    https://github.com/hupili 2019-04-01\n",
       "2676           0  2019-04-02    https://github.com/hupili 2019-04-02\n",
       "2677           0  2019-04-03    https://github.com/hupili 2019-04-03\n",
       "2678           0  2019-04-04    https://github.com/hupili 2019-04-04\n",
       "2679           0  2019-04-05    https://github.com/hupili 2019-04-05\n",
       "2680           0  2019-04-06    https://github.com/hupili 2019-04-06\n",
       "2681           6  2019-04-07    https://github.com/hupili 2019-04-07\n",
       "2682           0  2019-04-08    https://github.com/hupili 2019-04-08\n",
       "2683           0  2019-04-09    https://github.com/hupili 2019-04-09\n",
       "2684           0  2019-04-10    https://github.com/hupili 2019-04-10\n",
       "2685           0  2019-04-11    https://github.com/hupili 2019-04-11\n",
       "2686           1  2019-04-12    https://github.com/hupili 2019-04-12\n",
       "2687           0  2019-04-13    https://github.com/hupili 2019-04-13\n",
       "2688           4  2019-04-14    https://github.com/hupili 2019-04-14\n",
       "2689           0  2019-04-15    https://github.com/hupili 2019-04-15\n",
       "2690           0  2019-04-16    https://github.com/hupili 2019-04-16\n",
       "2691           0  2019-04-17    https://github.com/hupili 2019-04-17\n",
       "2692           0  2019-04-18    https://github.com/hupili 2019-04-18\n",
       "2693           0  2019-04-19    https://github.com/hupili 2019-04-19\n",
       "2694           0  2019-04-20    https://github.com/hupili 2019-04-20\n",
       "2695           0  2019-04-21    https://github.com/hupili 2019-04-21\n",
       "2696           0  2019-04-22    https://github.com/hupili 2019-04-22\n",
       "2697           0  2019-04-23    https://github.com/hupili 2019-04-23\n",
       "2698           0  2019-04-24    https://github.com/hupili 2019-04-24\n",
       "2699           0  2019-04-25    https://github.com/hupili 2019-04-25\n",
       "\n",
       "[2700 rows x 4 columns]"
      ]
     },
     "execution_count": 23,
     "metadata": {},
     "output_type": "execute_result"
    }
   ],
   "source": [
    "df"
   ]
  },
  {
   "cell_type": "markdown",
   "metadata": {},
   "source": [
    "## Time series by class"
   ]
  },
  {
   "cell_type": "code",
   "execution_count": 24,
   "metadata": {},
   "outputs": [],
   "source": [
    "df_students = pd.read_csv('github-scrapers/user-list.csv')"
   ]
  },
  {
   "cell_type": "code",
   "execution_count": 25,
   "metadata": {},
   "outputs": [
    {
     "data": {
      "text/html": [
       "<div>\n",
       "<style scoped>\n",
       "    .dataframe tbody tr th:only-of-type {\n",
       "        vertical-align: middle;\n",
       "    }\n",
       "\n",
       "    .dataframe tbody tr th {\n",
       "        vertical-align: top;\n",
       "    }\n",
       "\n",
       "    .dataframe thead th {\n",
       "        text-align: right;\n",
       "    }\n",
       "</style>\n",
       "<table border=\"1\" class=\"dataframe\">\n",
       "  <thead>\n",
       "    <tr style=\"text-align: right;\">\n",
       "      <th></th>\n",
       "      <th>Course_Code</th>\n",
       "      <th>Student_Name</th>\n",
       "      <th>github_link</th>\n",
       "      <th>remark</th>\n",
       "    </tr>\n",
       "  </thead>\n",
       "  <tbody>\n",
       "    <tr>\n",
       "      <th>0</th>\n",
       "      <td>JOUR2106</td>\n",
       "      <td>Angie Chan</td>\n",
       "      <td>https://github.com/angiecwl</td>\n",
       "      <td>Enrolled</td>\n",
       "    </tr>\n",
       "    <tr>\n",
       "      <th>1</th>\n",
       "      <td>JOUR2106</td>\n",
       "      <td>CHEN Fang-Yi</td>\n",
       "      <td>https://github.com/FangFangYC</td>\n",
       "      <td>Enrolled</td>\n",
       "    </tr>\n",
       "    <tr>\n",
       "      <th>2</th>\n",
       "      <td>JOUR2106</td>\n",
       "      <td>Cheung Yan Yi</td>\n",
       "      <td>https://github.com/CheungYanYi</td>\n",
       "      <td>Enrolled</td>\n",
       "    </tr>\n",
       "    <tr>\n",
       "      <th>3</th>\n",
       "      <td>JOUR2106</td>\n",
       "      <td>ZHAO Minzhu</td>\n",
       "      <td>https://github.com/MindyZHAOMinzhu</td>\n",
       "      <td>Enrolled</td>\n",
       "    </tr>\n",
       "    <tr>\n",
       "      <th>4</th>\n",
       "      <td>JOUR2106</td>\n",
       "      <td>Holly Chik</td>\n",
       "      <td>https://github.com/hollychik</td>\n",
       "      <td>Enrolled</td>\n",
       "    </tr>\n",
       "  </tbody>\n",
       "</table>\n",
       "</div>"
      ],
      "text/plain": [
       "  Course_Code   Student_Name                         github_link    remark\n",
       "0    JOUR2106     Angie Chan         https://github.com/angiecwl  Enrolled\n",
       "1    JOUR2106   CHEN Fang-Yi       https://github.com/FangFangYC  Enrolled\n",
       "2    JOUR2106  Cheung Yan Yi      https://github.com/CheungYanYi  Enrolled\n",
       "3    JOUR2106    ZHAO Minzhu  https://github.com/MindyZHAOMinzhu  Enrolled\n",
       "4    JOUR2106     Holly Chik        https://github.com/hollychik  Enrolled"
      ]
     },
     "execution_count": 25,
     "metadata": {},
     "output_type": "execute_result"
    }
   ],
   "source": [
    "df_students.head()"
   ]
  },
  {
   "cell_type": "code",
   "execution_count": 26,
   "metadata": {},
   "outputs": [],
   "source": [
    "df_merged = df.merge(df_students, left_on='url', right_on='github_link')"
   ]
  },
  {
   "cell_type": "code",
   "execution_count": 27,
   "metadata": {},
   "outputs": [
    {
     "data": {
      "text/html": [
       "<div>\n",
       "<style scoped>\n",
       "    .dataframe tbody tr th:only-of-type {\n",
       "        vertical-align: middle;\n",
       "    }\n",
       "\n",
       "    .dataframe tbody tr th {\n",
       "        vertical-align: top;\n",
       "    }\n",
       "\n",
       "    .dataframe thead th {\n",
       "        text-align: right;\n",
       "    }\n",
       "</style>\n",
       "<table border=\"1\" class=\"dataframe\">\n",
       "  <thead>\n",
       "    <tr style=\"text-align: right;\">\n",
       "      <th></th>\n",
       "      <th>data-count</th>\n",
       "      <th>data-date</th>\n",
       "      <th>url</th>\n",
       "      <th>datetime</th>\n",
       "      <th>Course_Code</th>\n",
       "      <th>Student_Name</th>\n",
       "      <th>github_link</th>\n",
       "      <th>remark</th>\n",
       "    </tr>\n",
       "  </thead>\n",
       "  <tbody>\n",
       "    <tr>\n",
       "      <th>0</th>\n",
       "      <td>0</td>\n",
       "      <td>2019-01-08</td>\n",
       "      <td>https://github.com/angiecwl</td>\n",
       "      <td>2019-01-08</td>\n",
       "      <td>JOUR2106</td>\n",
       "      <td>Angie Chan</td>\n",
       "      <td>https://github.com/angiecwl</td>\n",
       "      <td>Enrolled</td>\n",
       "    </tr>\n",
       "    <tr>\n",
       "      <th>1</th>\n",
       "      <td>0</td>\n",
       "      <td>2019-01-09</td>\n",
       "      <td>https://github.com/angiecwl</td>\n",
       "      <td>2019-01-09</td>\n",
       "      <td>JOUR2106</td>\n",
       "      <td>Angie Chan</td>\n",
       "      <td>https://github.com/angiecwl</td>\n",
       "      <td>Enrolled</td>\n",
       "    </tr>\n",
       "    <tr>\n",
       "      <th>2</th>\n",
       "      <td>0</td>\n",
       "      <td>2019-01-10</td>\n",
       "      <td>https://github.com/angiecwl</td>\n",
       "      <td>2019-01-10</td>\n",
       "      <td>JOUR2106</td>\n",
       "      <td>Angie Chan</td>\n",
       "      <td>https://github.com/angiecwl</td>\n",
       "      <td>Enrolled</td>\n",
       "    </tr>\n",
       "    <tr>\n",
       "      <th>3</th>\n",
       "      <td>0</td>\n",
       "      <td>2019-01-11</td>\n",
       "      <td>https://github.com/angiecwl</td>\n",
       "      <td>2019-01-11</td>\n",
       "      <td>JOUR2106</td>\n",
       "      <td>Angie Chan</td>\n",
       "      <td>https://github.com/angiecwl</td>\n",
       "      <td>Enrolled</td>\n",
       "    </tr>\n",
       "    <tr>\n",
       "      <th>4</th>\n",
       "      <td>0</td>\n",
       "      <td>2019-01-12</td>\n",
       "      <td>https://github.com/angiecwl</td>\n",
       "      <td>2019-01-12</td>\n",
       "      <td>JOUR2106</td>\n",
       "      <td>Angie Chan</td>\n",
       "      <td>https://github.com/angiecwl</td>\n",
       "      <td>Enrolled</td>\n",
       "    </tr>\n",
       "  </tbody>\n",
       "</table>\n",
       "</div>"
      ],
      "text/plain": [
       "   data-count   data-date                          url   datetime Course_Code  \\\n",
       "0           0  2019-01-08  https://github.com/angiecwl 2019-01-08    JOUR2106   \n",
       "1           0  2019-01-09  https://github.com/angiecwl 2019-01-09    JOUR2106   \n",
       "2           0  2019-01-10  https://github.com/angiecwl 2019-01-10    JOUR2106   \n",
       "3           0  2019-01-11  https://github.com/angiecwl 2019-01-11    JOUR2106   \n",
       "4           0  2019-01-12  https://github.com/angiecwl 2019-01-12    JOUR2106   \n",
       "\n",
       "  Student_Name                  github_link    remark  \n",
       "0   Angie Chan  https://github.com/angiecwl  Enrolled  \n",
       "1   Angie Chan  https://github.com/angiecwl  Enrolled  \n",
       "2   Angie Chan  https://github.com/angiecwl  Enrolled  \n",
       "3   Angie Chan  https://github.com/angiecwl  Enrolled  \n",
       "4   Angie Chan  https://github.com/angiecwl  Enrolled  "
      ]
     },
     "execution_count": 27,
     "metadata": {},
     "output_type": "execute_result"
    }
   ],
   "source": [
    "df_merged.head()"
   ]
  },
  {
   "cell_type": "markdown",
   "metadata": {},
   "source": [
    "### pivot table"
   ]
  },
  {
   "cell_type": "code",
   "execution_count": 60,
   "metadata": {},
   "outputs": [
    {
     "data": {
      "text/plain": [
       "<matplotlib.axes._subplots.AxesSubplot at 0x10eb44dd8>"
      ]
     },
     "execution_count": 60,
     "metadata": {},
     "output_type": "execute_result"
    },
    {
     "data": {
      "image/png": "[encoded data removed]",
      "text/plain": [
       "<Figure size 432x288 with 1 Axes>"
      ]
     },
     "metadata": {
      "needs_background": "light"
     },
     "output_type": "display_data"
    }
   ],
   "source": [
    "pd.pivot_table(\n",
    "    df_merged, index='datetime', values=['data-count'], aggfunc='sum'\n",
    ").plot()"
   ]
  },
  {
   "cell_type": "code",
   "execution_count": 59,
   "metadata": {},
   "outputs": [
    {
     "data": {
      "text/plain": [
       "<matplotlib.axes._subplots.AxesSubplot at 0x10ebae8d0>"
      ]
     },
     "execution_count": 59,
     "metadata": {},
     "output_type": "execute_result"
    },
    {
     "data": {
      "image/png": "[encoded data removed]",
      "text/plain": [
       "<Figure size 432x288 with 1 Axes>"
      ]
     },
     "metadata": {
      "needs_background": "light"
     },
     "output_type": "display_data"
    }
   ],
   "source": [
    "pd.pivot_table(\n",
    "    df_merged, index='datetime', values=['data-count'], aggfunc='sum'\n",
    ").resample('1w').aggregate('sum').plot()"
   ]
  },
  {
   "cell_type": "code",
   "execution_count": 61,
   "metadata": {},
   "outputs": [
    {
     "data": {
      "text/html": [
       "<div>\n",
       "<style scoped>\n",
       "    .dataframe tbody tr th:only-of-type {\n",
       "        vertical-align: middle;\n",
       "    }\n",
       "\n",
       "    .dataframe tbody tr th {\n",
       "        vertical-align: top;\n",
       "    }\n",
       "\n",
       "    .dataframe thead th {\n",
       "        text-align: right;\n",
       "    }\n",
       "</style>\n",
       "<table border=\"1\" class=\"dataframe\">\n",
       "  <thead>\n",
       "    <tr style=\"text-align: right;\">\n",
       "      <th></th>\n",
       "      <th>data-count</th>\n",
       "    </tr>\n",
       "    <tr>\n",
       "      <th>datetime</th>\n",
       "      <th></th>\n",
       "    </tr>\n",
       "  </thead>\n",
       "  <tbody>\n",
       "    <tr>\n",
       "      <th>2019-01-13</th>\n",
       "      <td>8</td>\n",
       "    </tr>\n",
       "    <tr>\n",
       "      <th>2019-01-27</th>\n",
       "      <td>261</td>\n",
       "    </tr>\n",
       "    <tr>\n",
       "      <th>2019-02-10</th>\n",
       "      <td>201</td>\n",
       "    </tr>\n",
       "    <tr>\n",
       "      <th>2019-02-24</th>\n",
       "      <td>62</td>\n",
       "    </tr>\n",
       "    <tr>\n",
       "      <th>2019-03-10</th>\n",
       "      <td>32</td>\n",
       "    </tr>\n",
       "    <tr>\n",
       "      <th>2019-03-24</th>\n",
       "      <td>31</td>\n",
       "    </tr>\n",
       "    <tr>\n",
       "      <th>2019-04-07</th>\n",
       "      <td>63</td>\n",
       "    </tr>\n",
       "    <tr>\n",
       "      <th>2019-04-21</th>\n",
       "      <td>13</td>\n",
       "    </tr>\n",
       "    <tr>\n",
       "      <th>2019-05-05</th>\n",
       "      <td>4</td>\n",
       "    </tr>\n",
       "  </tbody>\n",
       "</table>\n",
       "</div>"
      ],
      "text/plain": [
       "            data-count\n",
       "datetime              \n",
       "2019-01-13           8\n",
       "2019-01-27         261\n",
       "2019-02-10         201\n",
       "2019-02-24          62\n",
       "2019-03-10          32\n",
       "2019-03-24          31\n",
       "2019-04-07          63\n",
       "2019-04-21          13\n",
       "2019-05-05           4"
      ]
     },
     "execution_count": 61,
     "metadata": {},
     "output_type": "execute_result"
    }
   ],
   "source": [
    "pd.pivot_table(\n",
    "    df_merged, index='datetime', values=['data-count'], aggfunc='sum'\n",
    ").resample('2w').aggregate('sum')#.plot()"
   ]
  },
  {
   "cell_type": "markdown",
   "metadata": {},
   "source": [
    "## Number of contributions by person"
   ]
  },
  {
   "cell_type": "code",
   "execution_count": 28,
   "metadata": {},
   "outputs": [
    {
     "data": {
      "text/html": [
       "<div>\n",
       "<style scoped>\n",
       "    .dataframe tbody tr th:only-of-type {\n",
       "        vertical-align: middle;\n",
       "    }\n",
       "\n",
       "    .dataframe tbody tr th {\n",
       "        vertical-align: top;\n",
       "    }\n",
       "\n",
       "    .dataframe thead th {\n",
       "        text-align: right;\n",
       "    }\n",
       "</style>\n",
       "<table border=\"1\" class=\"dataframe\">\n",
       "  <thead>\n",
       "    <tr style=\"text-align: right;\">\n",
       "      <th></th>\n",
       "      <th></th>\n",
       "      <th>data-count</th>\n",
       "    </tr>\n",
       "    <tr>\n",
       "      <th>Student_Name</th>\n",
       "      <th>Course_Code</th>\n",
       "      <th></th>\n",
       "    </tr>\n",
       "  </thead>\n",
       "  <tbody>\n",
       "    <tr>\n",
       "      <th>Hu Pili</th>\n",
       "      <th>JOUR2106</th>\n",
       "      <td>95</td>\n",
       "    </tr>\n",
       "    <tr>\n",
       "      <th>DONG Xinyue</th>\n",
       "      <th>JOUR2106</th>\n",
       "      <td>64</td>\n",
       "    </tr>\n",
       "    <tr>\n",
       "      <th>Wang Ziwei</th>\n",
       "      <th>JOUR2106</th>\n",
       "      <td>53</td>\n",
       "    </tr>\n",
       "    <tr>\n",
       "      <th>LI Yun</th>\n",
       "      <th>JOUR2106</th>\n",
       "      <td>45</td>\n",
       "    </tr>\n",
       "    <tr>\n",
       "      <th>Holly Chik</th>\n",
       "      <th>JOUR2106</th>\n",
       "      <td>40</td>\n",
       "    </tr>\n",
       "    <tr>\n",
       "      <th>ZHAO Minzhu</th>\n",
       "      <th>JOUR2106</th>\n",
       "      <td>40</td>\n",
       "    </tr>\n",
       "    <tr>\n",
       "      <th>Gursimran Hans</th>\n",
       "      <th>JOUR2106</th>\n",
       "      <td>32</td>\n",
       "    </tr>\n",
       "    <tr>\n",
       "      <th>Li Yuquan</th>\n",
       "      <th>JOUR2106</th>\n",
       "      <td>31</td>\n",
       "    </tr>\n",
       "    <tr>\n",
       "      <th>NG Yee Sin</th>\n",
       "      <th>JOUR2106</th>\n",
       "      <td>29</td>\n",
       "    </tr>\n",
       "    <tr>\n",
       "      <th>Zhao Zoya</th>\n",
       "      <th>JOUR2106</th>\n",
       "      <td>25</td>\n",
       "    </tr>\n",
       "    <tr>\n",
       "      <th>Chin Ho Nam Erica</th>\n",
       "      <th>JOUR2106</th>\n",
       "      <td>24</td>\n",
       "    </tr>\n",
       "    <tr>\n",
       "      <th>Nguyen Thi Minh Anh</th>\n",
       "      <th>JOUR2106</th>\n",
       "      <td>21</td>\n",
       "    </tr>\n",
       "    <tr>\n",
       "      <th>Ray Liu</th>\n",
       "      <th>JOUR2106</th>\n",
       "      <td>17</td>\n",
       "    </tr>\n",
       "    <tr>\n",
       "      <th>Yiming Ding</th>\n",
       "      <th>JOUR2106</th>\n",
       "      <td>17</td>\n",
       "    </tr>\n",
       "    <tr>\n",
       "      <th>Angie Chan</th>\n",
       "      <th>JOUR2106</th>\n",
       "      <td>16</td>\n",
       "    </tr>\n",
       "    <tr>\n",
       "      <th>Liu Pei Lin</th>\n",
       "      <th>JOUR2106</th>\n",
       "      <td>16</td>\n",
       "    </tr>\n",
       "    <tr>\n",
       "      <th>CHEN Fang-Yi</th>\n",
       "      <th>JOUR2106</th>\n",
       "      <td>16</td>\n",
       "    </tr>\n",
       "    <tr>\n",
       "      <th>Akane Nakasuji</th>\n",
       "      <th>JOUR2106</th>\n",
       "      <td>14</td>\n",
       "    </tr>\n",
       "    <tr>\n",
       "      <th>Kuang Tianzheng</th>\n",
       "      <th>JOUR2108</th>\n",
       "      <td>12</td>\n",
       "    </tr>\n",
       "    <tr>\n",
       "      <th>SUN Han Yue</th>\n",
       "      <th>JOUR2106</th>\n",
       "      <td>11</td>\n",
       "    </tr>\n",
       "    <tr>\n",
       "      <th>GE XINRAN</th>\n",
       "      <th>JOUR2106</th>\n",
       "      <td>10</td>\n",
       "    </tr>\n",
       "    <tr>\n",
       "      <th>Cheung Yan Yi</th>\n",
       "      <th>JOUR2106</th>\n",
       "      <td>9</td>\n",
       "    </tr>\n",
       "    <tr>\n",
       "      <th>MO Kexin</th>\n",
       "      <th>JOUR2106</th>\n",
       "      <td>6</td>\n",
       "    </tr>\n",
       "    <tr>\n",
       "      <th>Chen Lewei</th>\n",
       "      <th>JOUR2107</th>\n",
       "      <td>5</td>\n",
       "    </tr>\n",
       "    <tr>\n",
       "      <th>Li Sin Yung</th>\n",
       "      <th>JOUR2106</th>\n",
       "      <td>2</td>\n",
       "    </tr>\n",
       "  </tbody>\n",
       "</table>\n",
       "</div>"
      ],
      "text/plain": [
       "                                 data-count\n",
       "Student_Name        Course_Code            \n",
       "Hu Pili             JOUR2106             95\n",
       "DONG Xinyue         JOUR2106             64\n",
       "Wang Ziwei          JOUR2106             53\n",
       "LI Yun              JOUR2106             45\n",
       "Holly Chik          JOUR2106             40\n",
       "ZHAO Minzhu         JOUR2106             40\n",
       "Gursimran Hans      JOUR2106             32\n",
       "Li Yuquan           JOUR2106             31\n",
       "NG Yee Sin          JOUR2106             29\n",
       "Zhao Zoya           JOUR2106             25\n",
       "Chin Ho Nam Erica   JOUR2106             24\n",
       "Nguyen Thi Minh Anh JOUR2106             21\n",
       "Ray Liu             JOUR2106             17\n",
       "Yiming Ding         JOUR2106             17\n",
       "Angie Chan          JOUR2106             16\n",
       "Liu Pei Lin         JOUR2106             16\n",
       "CHEN Fang-Yi        JOUR2106             16\n",
       "Akane Nakasuji      JOUR2106             14\n",
       "Kuang Tianzheng     JOUR2108             12\n",
       "SUN Han Yue         JOUR2106             11\n",
       "GE XINRAN           JOUR2106             10\n",
       "Cheung Yan Yi       JOUR2106              9\n",
       "MO Kexin            JOUR2106              6\n",
       "Chen Lewei          JOUR2107              5\n",
       "Li Sin Yung         JOUR2106              2"
      ]
     },
     "execution_count": 28,
     "metadata": {},
     "output_type": "execute_result"
    }
   ],
   "source": [
    "pd.pivot_table(\n",
    "    df_merged, index=['Student_Name', 'Course_Code'], values=['data-count'], aggfunc='sum'\n",
    ").sort_values(by='data-count', ascending=False)"
   ]
  },
  {
   "cell_type": "markdown",
   "metadata": {},
   "source": [
    "## Number of contributions in past week?"
   ]
  },
  {
   "cell_type": "code",
   "execution_count": 30,
   "metadata": {},
   "outputs": [
    {
     "data": {
      "text/plain": [
       "2700"
      ]
     },
     "execution_count": 30,
     "metadata": {},
     "output_type": "execute_result"
    }
   ],
   "source": [
    "len(df_merged)"
   ]
  },
  {
   "cell_type": "code",
   "execution_count": 31,
   "metadata": {},
   "outputs": [
    {
     "data": {
      "text/plain": [
       "'2019-04-25'"
      ]
     },
     "execution_count": 31,
     "metadata": {},
     "output_type": "execute_result"
    }
   ],
   "source": [
    "'2019-04-19'\n",
    "'2019-04-25'"
   ]
  },
  {
   "cell_type": "code",
   "execution_count": 32,
   "metadata": {},
   "outputs": [
    {
     "data": {
      "text/plain": [
       "450"
      ]
     },
     "execution_count": 32,
     "metadata": {},
     "output_type": "execute_result"
    }
   ],
   "source": [
    "len(df_merged[\n",
    "    df_merged['data-date'] > '2019-04-07'\n",
    "])"
   ]
  },
  {
   "cell_type": "markdown",
   "metadata": {},
   "source": [
    "Why can wedo the above string comparison in order to compare two datetime objects?\n",
    "\n",
    "Because we have a canonical format here\n",
    "\n",
    "```\n",
    "yyyymmdd\n",
    "2018-11-05\n",
    "2018-11-12\n",
    "```\n",
    "\n",
    "If not using canonical format, the comparison will yield different result\n",
    "\n",
    "```\n",
    "2018-11-5\n",
    "2018-11-12\n",
    "```"
   ]
  },
  {
   "cell_type": "code",
   "execution_count": 33,
   "metadata": {},
   "outputs": [
    {
     "data": {
      "text/html": [
       "<div>\n",
       "<style scoped>\n",
       "    .dataframe tbody tr th:only-of-type {\n",
       "        vertical-align: middle;\n",
       "    }\n",
       "\n",
       "    .dataframe tbody tr th {\n",
       "        vertical-align: top;\n",
       "    }\n",
       "\n",
       "    .dataframe thead th {\n",
       "        text-align: right;\n",
       "    }\n",
       "</style>\n",
       "<table border=\"1\" class=\"dataframe\">\n",
       "  <thead>\n",
       "    <tr style=\"text-align: right;\">\n",
       "      <th></th>\n",
       "      <th></th>\n",
       "      <th>data-count</th>\n",
       "    </tr>\n",
       "    <tr>\n",
       "      <th>Student_Name</th>\n",
       "      <th>Course_Code</th>\n",
       "      <th></th>\n",
       "    </tr>\n",
       "  </thead>\n",
       "  <tbody>\n",
       "    <tr>\n",
       "      <th>Hu Pili</th>\n",
       "      <th>JOUR2106</th>\n",
       "      <td>5</td>\n",
       "    </tr>\n",
       "    <tr>\n",
       "      <th>ZHAO Minzhu</th>\n",
       "      <th>JOUR2106</th>\n",
       "      <td>3</td>\n",
       "    </tr>\n",
       "    <tr>\n",
       "      <th>DONG Xinyue</th>\n",
       "      <th>JOUR2106</th>\n",
       "      <td>3</td>\n",
       "    </tr>\n",
       "    <tr>\n",
       "      <th>Liu Pei Lin</th>\n",
       "      <th>JOUR2106</th>\n",
       "      <td>2</td>\n",
       "    </tr>\n",
       "    <tr>\n",
       "      <th>Wang Ziwei</th>\n",
       "      <th>JOUR2106</th>\n",
       "      <td>2</td>\n",
       "    </tr>\n",
       "    <tr>\n",
       "      <th>CHEN Fang-Yi</th>\n",
       "      <th>JOUR2106</th>\n",
       "      <td>1</td>\n",
       "    </tr>\n",
       "    <tr>\n",
       "      <th>Holly Chik</th>\n",
       "      <th>JOUR2106</th>\n",
       "      <td>1</td>\n",
       "    </tr>\n",
       "    <tr>\n",
       "      <th>Akane Nakasuji</th>\n",
       "      <th>JOUR2106</th>\n",
       "      <td>0</td>\n",
       "    </tr>\n",
       "    <tr>\n",
       "      <th>Yiming Ding</th>\n",
       "      <th>JOUR2106</th>\n",
       "      <td>0</td>\n",
       "    </tr>\n",
       "    <tr>\n",
       "      <th>SUN Han Yue</th>\n",
       "      <th>JOUR2106</th>\n",
       "      <td>0</td>\n",
       "    </tr>\n",
       "    <tr>\n",
       "      <th>Ray Liu</th>\n",
       "      <th>JOUR2106</th>\n",
       "      <td>0</td>\n",
       "    </tr>\n",
       "    <tr>\n",
       "      <th>Nguyen Thi Minh Anh</th>\n",
       "      <th>JOUR2106</th>\n",
       "      <td>0</td>\n",
       "    </tr>\n",
       "    <tr>\n",
       "      <th>NG Yee Sin</th>\n",
       "      <th>JOUR2106</th>\n",
       "      <td>0</td>\n",
       "    </tr>\n",
       "    <tr>\n",
       "      <th>MO Kexin</th>\n",
       "      <th>JOUR2106</th>\n",
       "      <td>0</td>\n",
       "    </tr>\n",
       "    <tr>\n",
       "      <th>LI Yun</th>\n",
       "      <th>JOUR2106</th>\n",
       "      <td>0</td>\n",
       "    </tr>\n",
       "    <tr>\n",
       "      <th>Li Yuquan</th>\n",
       "      <th>JOUR2106</th>\n",
       "      <td>0</td>\n",
       "    </tr>\n",
       "    <tr>\n",
       "      <th>Li Sin Yung</th>\n",
       "      <th>JOUR2106</th>\n",
       "      <td>0</td>\n",
       "    </tr>\n",
       "    <tr>\n",
       "      <th>Angie Chan</th>\n",
       "      <th>JOUR2106</th>\n",
       "      <td>0</td>\n",
       "    </tr>\n",
       "    <tr>\n",
       "      <th>Kuang Tianzheng</th>\n",
       "      <th>JOUR2108</th>\n",
       "      <td>0</td>\n",
       "    </tr>\n",
       "    <tr>\n",
       "      <th>Gursimran Hans</th>\n",
       "      <th>JOUR2106</th>\n",
       "      <td>0</td>\n",
       "    </tr>\n",
       "    <tr>\n",
       "      <th>GE XINRAN</th>\n",
       "      <th>JOUR2106</th>\n",
       "      <td>0</td>\n",
       "    </tr>\n",
       "    <tr>\n",
       "      <th>Chin Ho Nam Erica</th>\n",
       "      <th>JOUR2106</th>\n",
       "      <td>0</td>\n",
       "    </tr>\n",
       "    <tr>\n",
       "      <th>Cheung Yan Yi</th>\n",
       "      <th>JOUR2106</th>\n",
       "      <td>0</td>\n",
       "    </tr>\n",
       "    <tr>\n",
       "      <th>Chen Lewei</th>\n",
       "      <th>JOUR2107</th>\n",
       "      <td>0</td>\n",
       "    </tr>\n",
       "    <tr>\n",
       "      <th>Zhao Zoya</th>\n",
       "      <th>JOUR2106</th>\n",
       "      <td>0</td>\n",
       "    </tr>\n",
       "  </tbody>\n",
       "</table>\n",
       "</div>"
      ],
      "text/plain": [
       "                                 data-count\n",
       "Student_Name        Course_Code            \n",
       "Hu Pili             JOUR2106              5\n",
       "ZHAO Minzhu         JOUR2106              3\n",
       "DONG Xinyue         JOUR2106              3\n",
       "Liu Pei Lin         JOUR2106              2\n",
       "Wang Ziwei          JOUR2106              2\n",
       "CHEN Fang-Yi        JOUR2106              1\n",
       "Holly Chik          JOUR2106              1\n",
       "Akane Nakasuji      JOUR2106              0\n",
       "Yiming Ding         JOUR2106              0\n",
       "SUN Han Yue         JOUR2106              0\n",
       "Ray Liu             JOUR2106              0\n",
       "Nguyen Thi Minh Anh JOUR2106              0\n",
       "NG Yee Sin          JOUR2106              0\n",
       "MO Kexin            JOUR2106              0\n",
       "LI Yun              JOUR2106              0\n",
       "Li Yuquan           JOUR2106              0\n",
       "Li Sin Yung         JOUR2106              0\n",
       "Angie Chan          JOUR2106              0\n",
       "Kuang Tianzheng     JOUR2108              0\n",
       "Gursimran Hans      JOUR2106              0\n",
       "GE XINRAN           JOUR2106              0\n",
       "Chin Ho Nam Erica   JOUR2106              0\n",
       "Cheung Yan Yi       JOUR2106              0\n",
       "Chen Lewei          JOUR2107              0\n",
       "Zhao Zoya           JOUR2106              0"
      ]
     },
     "execution_count": 33,
     "metadata": {},
     "output_type": "execute_result"
    }
   ],
   "source": [
    "# step 1:\n",
    "# df_merged <-- contributions in past week\n",
    "\n",
    "df_past_week = df_merged[\n",
    "    df_merged['data-date'] > '2019-04-07'\n",
    "]\n",
    "\n",
    "# step 2:\n",
    "pd.pivot_table(\n",
    "    df_past_week, index=['Student_Name', 'Course_Code'], values=['data-count'], aggfunc='sum'\n",
    ").sort_values(by='data-count', ascending=False)"
   ]
  },
  {
   "cell_type": "markdown",
   "metadata": {},
   "source": [
    "### Compare time in a more rigorous way"
   ]
  },
  {
   "cell_type": "code",
   "execution_count": 34,
   "metadata": {},
   "outputs": [
    {
     "data": {
      "text/plain": [
       "pandas._libs.tslibs.timestamps.Timestamp"
      ]
     },
     "execution_count": 34,
     "metadata": {},
     "output_type": "execute_result"
    }
   ],
   "source": [
    "type(df['datetime'][0])"
   ]
  },
  {
   "cell_type": "code",
   "execution_count": 35,
   "metadata": {},
   "outputs": [
    {
     "data": {
      "text/plain": [
       "str"
      ]
     },
     "execution_count": 35,
     "metadata": {},
     "output_type": "execute_result"
    }
   ],
   "source": [
    "type(df['data-date'][0])"
   ]
  },
  {
   "cell_type": "code",
   "execution_count": 36,
   "metadata": {},
   "outputs": [],
   "source": [
    "a = df['datetime'][0]"
   ]
  },
  {
   "cell_type": "code",
   "execution_count": 37,
   "metadata": {},
   "outputs": [
    {
     "data": {
      "text/plain": [
       "Timestamp('2019-01-08 00:00:00')"
      ]
     },
     "execution_count": 37,
     "metadata": {},
     "output_type": "execute_result"
    }
   ],
   "source": [
    "a"
   ]
  },
  {
   "cell_type": "code",
   "execution_count": 38,
   "metadata": {},
   "outputs": [],
   "source": [
    "import datetime"
   ]
  },
  {
   "cell_type": "code",
   "execution_count": 39,
   "metadata": {},
   "outputs": [],
   "source": [
    "b = datetime.datetime(2018, 8, 2)"
   ]
  },
  {
   "cell_type": "code",
   "execution_count": 40,
   "metadata": {},
   "outputs": [
    {
     "data": {
      "text/plain": [
       "Timestamp('2019-01-08 00:00:00')"
      ]
     },
     "execution_count": 40,
     "metadata": {},
     "output_type": "execute_result"
    }
   ],
   "source": [
    "a"
   ]
  },
  {
   "cell_type": "code",
   "execution_count": 41,
   "metadata": {},
   "outputs": [
    {
     "data": {
      "text/plain": [
       "datetime.datetime(2018, 8, 2, 0, 0)"
      ]
     },
     "execution_count": 41,
     "metadata": {},
     "output_type": "execute_result"
    }
   ],
   "source": [
    "b"
   ]
  },
  {
   "cell_type": "code",
   "execution_count": 42,
   "metadata": {},
   "outputs": [
    {
     "data": {
      "text/plain": [
       "False"
      ]
     },
     "execution_count": 42,
     "metadata": {},
     "output_type": "execute_result"
    }
   ],
   "source": [
    "a < b"
   ]
  },
  {
   "cell_type": "code",
   "execution_count": 43,
   "metadata": {},
   "outputs": [],
   "source": [
    "b = datetime.datetime(2018, 7, 3)"
   ]
  },
  {
   "cell_type": "code",
   "execution_count": 44,
   "metadata": {},
   "outputs": [
    {
     "data": {
      "text/plain": [
       "False"
      ]
     },
     "execution_count": 44,
     "metadata": {},
     "output_type": "execute_result"
    }
   ],
   "source": [
    "a < b"
   ]
  },
  {
   "cell_type": "code",
   "execution_count": 45,
   "metadata": {},
   "outputs": [],
   "source": [
    "a = datetime.datetime(2018, 11, 5, 21)\n",
    "b = datetime.datetime(2018, 11, 5, 22)"
   ]
  },
  {
   "cell_type": "code",
   "execution_count": 46,
   "metadata": {},
   "outputs": [
    {
     "data": {
      "text/plain": [
       "True"
      ]
     },
     "execution_count": 46,
     "metadata": {},
     "output_type": "execute_result"
    }
   ],
   "source": [
    "a < b"
   ]
  },
  {
   "cell_type": "markdown",
   "metadata": {},
   "source": [
    "## Final project repo"
   ]
  },
  {
   "cell_type": "code",
   "execution_count": 47,
   "metadata": {},
   "outputs": [],
   "source": [
    "df_finals = pd.read_csv('data/final-repos-activities.csv')"
   ]
  },
  {
   "cell_type": "code",
   "execution_count": 48,
   "metadata": {},
   "outputs": [
    {
     "data": {
      "text/plain": [
       "296"
      ]
     },
     "execution_count": 48,
     "metadata": {},
     "output_type": "execute_result"
    }
   ],
   "source": [
    "len(df_finals)"
   ]
  },
  {
   "cell_type": "code",
   "execution_count": 62,
   "metadata": {},
   "outputs": [],
   "source": [
    "# df_finals"
   ]
  },
  {
   "cell_type": "markdown",
   "metadata": {},
   "source": [
    "## User activity details"
   ]
  },
  {
   "cell_type": "code",
   "execution_count": 50,
   "metadata": {},
   "outputs": [],
   "source": [
    "df_details = pd.read_csv('data/user-activity-details.csv')"
   ]
  },
  {
   "cell_type": "code",
   "execution_count": 51,
   "metadata": {},
   "outputs": [
    {
     "data": {
      "text/plain": [
       "2415"
      ]
     },
     "execution_count": 51,
     "metadata": {},
     "output_type": "execute_result"
    }
   ],
   "source": [
    "len(df_details)"
   ]
  },
  {
   "cell_type": "code",
   "execution_count": 52,
   "metadata": {},
   "outputs": [
    {
     "data": {
      "text/plain": [
       "Index(['description', 'repo', 'time', 'type', 'users'], dtype='object')"
      ]
     },
     "execution_count": 52,
     "metadata": {},
     "output_type": "execute_result"
    }
   ],
   "source": [
    "df_details.columns"
   ]
  },
  {
   "cell_type": "code",
   "execution_count": 53,
   "metadata": {},
   "outputs": [
    {
     "data": {
      "text/html": [
       "<div>\n",
       "<style scoped>\n",
       "    .dataframe tbody tr th:only-of-type {\n",
       "        vertical-align: middle;\n",
       "    }\n",
       "\n",
       "    .dataframe tbody tr th {\n",
       "        vertical-align: top;\n",
       "    }\n",
       "\n",
       "    .dataframe thead th {\n",
       "        text-align: right;\n",
       "    }\n",
       "</style>\n",
       "<table border=\"1\" class=\"dataframe\">\n",
       "  <thead>\n",
       "    <tr style=\"text-align: right;\">\n",
       "      <th></th>\n",
       "      <th>description</th>\n",
       "      <th>repo</th>\n",
       "      <th>time</th>\n",
       "      <th>users</th>\n",
       "    </tr>\n",
       "    <tr>\n",
       "      <th>type</th>\n",
       "      <th></th>\n",
       "      <th></th>\n",
       "      <th></th>\n",
       "      <th></th>\n",
       "    </tr>\n",
       "  </thead>\n",
       "  <tbody>\n",
       "    <tr>\n",
       "      <th>CommitCommentEvent</th>\n",
       "      <td>0</td>\n",
       "      <td>2</td>\n",
       "      <td>2</td>\n",
       "      <td>2</td>\n",
       "    </tr>\n",
       "    <tr>\n",
       "      <th>CreateEvent</th>\n",
       "      <td>74</td>\n",
       "      <td>74</td>\n",
       "      <td>74</td>\n",
       "      <td>74</td>\n",
       "    </tr>\n",
       "    <tr>\n",
       "      <th>ForkEvent</th>\n",
       "      <td>0</td>\n",
       "      <td>57</td>\n",
       "      <td>57</td>\n",
       "      <td>57</td>\n",
       "    </tr>\n",
       "    <tr>\n",
       "      <th>IssueCommentEvent</th>\n",
       "      <td>0</td>\n",
       "      <td>58</td>\n",
       "      <td>58</td>\n",
       "      <td>58</td>\n",
       "    </tr>\n",
       "    <tr>\n",
       "      <th>IssuesEvent</th>\n",
       "      <td>38</td>\n",
       "      <td>38</td>\n",
       "      <td>38</td>\n",
       "      <td>38</td>\n",
       "    </tr>\n",
       "    <tr>\n",
       "      <th>MemberEvent</th>\n",
       "      <td>0</td>\n",
       "      <td>4</td>\n",
       "      <td>4</td>\n",
       "      <td>4</td>\n",
       "    </tr>\n",
       "    <tr>\n",
       "      <th>PublicEvent</th>\n",
       "      <td>0</td>\n",
       "      <td>1</td>\n",
       "      <td>1</td>\n",
       "      <td>1</td>\n",
       "    </tr>\n",
       "    <tr>\n",
       "      <th>PullRequestEvent</th>\n",
       "      <td>0</td>\n",
       "      <td>25</td>\n",
       "      <td>25</td>\n",
       "      <td>25</td>\n",
       "    </tr>\n",
       "    <tr>\n",
       "      <th>PushEvent</th>\n",
       "      <td>2117</td>\n",
       "      <td>2117</td>\n",
       "      <td>2117</td>\n",
       "      <td>2117</td>\n",
       "    </tr>\n",
       "    <tr>\n",
       "      <th>WatchEvent</th>\n",
       "      <td>39</td>\n",
       "      <td>39</td>\n",
       "      <td>39</td>\n",
       "      <td>39</td>\n",
       "    </tr>\n",
       "  </tbody>\n",
       "</table>\n",
       "</div>"
      ],
      "text/plain": [
       "                    description  repo  time  users\n",
       "type                                              \n",
       "CommitCommentEvent            0     2     2      2\n",
       "CreateEvent                  74    74    74     74\n",
       "ForkEvent                     0    57    57     57\n",
       "IssueCommentEvent             0    58    58     58\n",
       "IssuesEvent                  38    38    38     38\n",
       "MemberEvent                   0     4     4      4\n",
       "PublicEvent                   0     1     1      1\n",
       "PullRequestEvent              0    25    25     25\n",
       "PushEvent                  2117  2117  2117   2117\n",
       "WatchEvent                   39    39    39     39"
      ]
     },
     "execution_count": 53,
     "metadata": {},
     "output_type": "execute_result"
    }
   ],
   "source": [
    "df_details.pivot_table(index='type', aggfunc='count')"
   ]
  },
  {
   "cell_type": "code",
   "execution_count": 54,
   "metadata": {},
   "outputs": [],
   "source": [
    "events = ['CreateEvent', 'IssueCommentEvent', 'IssuesEvent', 'PullRequestEvent', 'PushEvent', 'WatchEvent']"
   ]
  },
  {
   "cell_type": "code",
   "execution_count": 55,
   "metadata": {},
   "outputs": [],
   "source": [
    "pt_user_event = df_details.pivot_table(\n",
    "    columns='type', index='users', values='time', aggfunc='count')[events].fillna(0)"
   ]
  },
  {
   "cell_type": "code",
   "execution_count": 56,
   "metadata": {},
   "outputs": [
    {
     "data": {
      "text/html": [
       "<div>\n",
       "<style scoped>\n",
       "    .dataframe tbody tr th:only-of-type {\n",
       "        vertical-align: middle;\n",
       "    }\n",
       "\n",
       "    .dataframe tbody tr th {\n",
       "        vertical-align: top;\n",
       "    }\n",
       "\n",
       "    .dataframe thead th {\n",
       "        text-align: right;\n",
       "    }\n",
       "</style>\n",
       "<table border=\"1\" class=\"dataframe\">\n",
       "  <thead>\n",
       "    <tr style=\"text-align: right;\">\n",
       "      <th>type</th>\n",
       "      <th>CreateEvent</th>\n",
       "      <th>IssueCommentEvent</th>\n",
       "      <th>IssuesEvent</th>\n",
       "      <th>PullRequestEvent</th>\n",
       "      <th>PushEvent</th>\n",
       "      <th>WatchEvent</th>\n",
       "    </tr>\n",
       "    <tr>\n",
       "      <th>users</th>\n",
       "      <th></th>\n",
       "      <th></th>\n",
       "      <th></th>\n",
       "      <th></th>\n",
       "      <th></th>\n",
       "      <th></th>\n",
       "    </tr>\n",
       "  </thead>\n",
       "  <tbody>\n",
       "    <tr>\n",
       "      <th>hupili</th>\n",
       "      <td>4.0</td>\n",
       "      <td>37.0</td>\n",
       "      <td>15.0</td>\n",
       "      <td>11.0</td>\n",
       "      <td>43.0</td>\n",
       "      <td>21.0</td>\n",
       "    </tr>\n",
       "    <tr>\n",
       "      <th>ivyWANG958</th>\n",
       "      <td>4.0</td>\n",
       "      <td>9.0</td>\n",
       "      <td>7.0</td>\n",
       "      <td>11.0</td>\n",
       "      <td>52.0</td>\n",
       "      <td>15.0</td>\n",
       "    </tr>\n",
       "    <tr>\n",
       "      <th>ghans19</th>\n",
       "      <td>8.0</td>\n",
       "      <td>0.0</td>\n",
       "      <td>6.0</td>\n",
       "      <td>0.0</td>\n",
       "      <td>69.0</td>\n",
       "      <td>0.0</td>\n",
       "    </tr>\n",
       "    <tr>\n",
       "      <th>dragonmasterhk</th>\n",
       "      <td>6.0</td>\n",
       "      <td>2.0</td>\n",
       "      <td>3.0</td>\n",
       "      <td>0.0</td>\n",
       "      <td>112.0</td>\n",
       "      <td>0.0</td>\n",
       "    </tr>\n",
       "    <tr>\n",
       "      <th>JimmyDingyiming</th>\n",
       "      <td>2.0</td>\n",
       "      <td>0.0</td>\n",
       "      <td>2.0</td>\n",
       "      <td>0.0</td>\n",
       "      <td>68.0</td>\n",
       "      <td>0.0</td>\n",
       "    </tr>\n",
       "  </tbody>\n",
       "</table>\n",
       "</div>"
      ],
      "text/plain": [
       "type             CreateEvent  IssueCommentEvent  IssuesEvent  \\\n",
       "users                                                          \n",
       "hupili                   4.0               37.0         15.0   \n",
       "ivyWANG958               4.0                9.0          7.0   \n",
       "ghans19                  8.0                0.0          6.0   \n",
       "dragonmasterhk           6.0                2.0          3.0   \n",
       "JimmyDingyiming          2.0                0.0          2.0   \n",
       "\n",
       "type             PullRequestEvent  PushEvent  WatchEvent  \n",
       "users                                                     \n",
       "hupili                       11.0       43.0        21.0  \n",
       "ivyWANG958                   11.0       52.0        15.0  \n",
       "ghans19                       0.0       69.0         0.0  \n",
       "dragonmasterhk                0.0      112.0         0.0  \n",
       "JimmyDingyiming               0.0       68.0         0.0  "
      ]
     },
     "execution_count": 56,
     "metadata": {},
     "output_type": "execute_result"
    }
   ],
   "source": [
    "pt_user_event.sort_values(by='IssuesEvent', ascending=False)[:5]"
   ]
  },
  {
   "cell_type": "code",
   "execution_count": 57,
   "metadata": {},
   "outputs": [
    {
     "data": {
      "text/html": [
       "<div>\n",
       "<style scoped>\n",
       "    .dataframe tbody tr th:only-of-type {\n",
       "        vertical-align: middle;\n",
       "    }\n",
       "\n",
       "    .dataframe tbody tr th {\n",
       "        vertical-align: top;\n",
       "    }\n",
       "\n",
       "    .dataframe thead th {\n",
       "        text-align: right;\n",
       "    }\n",
       "</style>\n",
       "<table border=\"1\" class=\"dataframe\">\n",
       "  <thead>\n",
       "    <tr style=\"text-align: right;\">\n",
       "      <th>type</th>\n",
       "      <th>CreateEvent</th>\n",
       "      <th>IssueCommentEvent</th>\n",
       "      <th>IssuesEvent</th>\n",
       "      <th>PullRequestEvent</th>\n",
       "      <th>PushEvent</th>\n",
       "      <th>WatchEvent</th>\n",
       "    </tr>\n",
       "    <tr>\n",
       "      <th>users</th>\n",
       "      <th></th>\n",
       "      <th></th>\n",
       "      <th></th>\n",
       "      <th></th>\n",
       "      <th></th>\n",
       "      <th></th>\n",
       "    </tr>\n",
       "  </thead>\n",
       "  <tbody>\n",
       "    <tr>\n",
       "      <th>sinyungli</th>\n",
       "      <td>0.0</td>\n",
       "      <td>0.0</td>\n",
       "      <td>0.0</td>\n",
       "      <td>0.0</td>\n",
       "      <td>190.0</td>\n",
       "      <td>0.0</td>\n",
       "    </tr>\n",
       "    <tr>\n",
       "      <th>Felicity2724</th>\n",
       "      <td>4.0</td>\n",
       "      <td>0.0</td>\n",
       "      <td>0.0</td>\n",
       "      <td>0.0</td>\n",
       "      <td>161.0</td>\n",
       "      <td>2.0</td>\n",
       "    </tr>\n",
       "    <tr>\n",
       "      <th>ericachinn</th>\n",
       "      <td>5.0</td>\n",
       "      <td>0.0</td>\n",
       "      <td>0.0</td>\n",
       "      <td>0.0</td>\n",
       "      <td>145.0</td>\n",
       "      <td>1.0</td>\n",
       "    </tr>\n",
       "    <tr>\n",
       "      <th>hollychik</th>\n",
       "      <td>1.0</td>\n",
       "      <td>0.0</td>\n",
       "      <td>0.0</td>\n",
       "      <td>0.0</td>\n",
       "      <td>123.0</td>\n",
       "      <td>0.0</td>\n",
       "    </tr>\n",
       "    <tr>\n",
       "      <th>anakasuji</th>\n",
       "      <td>3.0</td>\n",
       "      <td>0.0</td>\n",
       "      <td>0.0</td>\n",
       "      <td>0.0</td>\n",
       "      <td>120.0</td>\n",
       "      <td>0.0</td>\n",
       "    </tr>\n",
       "  </tbody>\n",
       "</table>\n",
       "</div>"
      ],
      "text/plain": [
       "type          CreateEvent  IssueCommentEvent  IssuesEvent  PullRequestEvent  \\\n",
       "users                                                                         \n",
       "sinyungli             0.0                0.0          0.0               0.0   \n",
       "Felicity2724          4.0                0.0          0.0               0.0   \n",
       "ericachinn            5.0                0.0          0.0               0.0   \n",
       "hollychik             1.0                0.0          0.0               0.0   \n",
       "anakasuji             3.0                0.0          0.0               0.0   \n",
       "\n",
       "type          PushEvent  WatchEvent  \n",
       "users                                \n",
       "sinyungli         190.0         0.0  \n",
       "Felicity2724      161.0         2.0  \n",
       "ericachinn        145.0         1.0  \n",
       "hollychik         123.0         0.0  \n",
       "anakasuji         120.0         0.0  "
      ]
     },
     "execution_count": 57,
     "metadata": {},
     "output_type": "execute_result"
    }
   ],
   "source": [
    "pt_user_event.sort_values(by='PushEvent', ascending=False)[:5]"
   ]
  },
  {
   "cell_type": "code",
   "execution_count": 58,
   "metadata": {},
   "outputs": [
    {
     "data": {
      "text/html": [
       "<div>\n",
       "<style scoped>\n",
       "    .dataframe tbody tr th:only-of-type {\n",
       "        vertical-align: middle;\n",
       "    }\n",
       "\n",
       "    .dataframe tbody tr th {\n",
       "        vertical-align: top;\n",
       "    }\n",
       "\n",
       "    .dataframe thead th {\n",
       "        text-align: right;\n",
       "    }\n",
       "</style>\n",
       "<table border=\"1\" class=\"dataframe\">\n",
       "  <thead>\n",
       "    <tr style=\"text-align: right;\">\n",
       "      <th>type</th>\n",
       "      <th>CreateEvent</th>\n",
       "      <th>IssueCommentEvent</th>\n",
       "      <th>IssuesEvent</th>\n",
       "      <th>PullRequestEvent</th>\n",
       "      <th>PushEvent</th>\n",
       "      <th>WatchEvent</th>\n",
       "    </tr>\n",
       "    <tr>\n",
       "      <th>users</th>\n",
       "      <th></th>\n",
       "      <th></th>\n",
       "      <th></th>\n",
       "      <th></th>\n",
       "      <th></th>\n",
       "      <th></th>\n",
       "    </tr>\n",
       "  </thead>\n",
       "  <tbody>\n",
       "    <tr>\n",
       "      <th>hupili</th>\n",
       "      <td>4.0</td>\n",
       "      <td>37.0</td>\n",
       "      <td>15.0</td>\n",
       "      <td>11.0</td>\n",
       "      <td>43.0</td>\n",
       "      <td>21.0</td>\n",
       "    </tr>\n",
       "    <tr>\n",
       "      <th>ivyWANG958</th>\n",
       "      <td>4.0</td>\n",
       "      <td>9.0</td>\n",
       "      <td>7.0</td>\n",
       "      <td>11.0</td>\n",
       "      <td>52.0</td>\n",
       "      <td>15.0</td>\n",
       "    </tr>\n",
       "    <tr>\n",
       "      <th>Felicity2724</th>\n",
       "      <td>4.0</td>\n",
       "      <td>0.0</td>\n",
       "      <td>0.0</td>\n",
       "      <td>0.0</td>\n",
       "      <td>161.0</td>\n",
       "      <td>2.0</td>\n",
       "    </tr>\n",
       "    <tr>\n",
       "      <th>ericachinn</th>\n",
       "      <td>5.0</td>\n",
       "      <td>0.0</td>\n",
       "      <td>0.0</td>\n",
       "      <td>0.0</td>\n",
       "      <td>145.0</td>\n",
       "      <td>1.0</td>\n",
       "    </tr>\n",
       "    <tr>\n",
       "      <th>CheungYanYi</th>\n",
       "      <td>2.0</td>\n",
       "      <td>0.0</td>\n",
       "      <td>0.0</td>\n",
       "      <td>0.0</td>\n",
       "      <td>110.0</td>\n",
       "      <td>0.0</td>\n",
       "    </tr>\n",
       "  </tbody>\n",
       "</table>\n",
       "</div>"
      ],
      "text/plain": [
       "type          CreateEvent  IssueCommentEvent  IssuesEvent  PullRequestEvent  \\\n",
       "users                                                                         \n",
       "hupili                4.0               37.0         15.0              11.0   \n",
       "ivyWANG958            4.0                9.0          7.0              11.0   \n",
       "Felicity2724          4.0                0.0          0.0               0.0   \n",
       "ericachinn            5.0                0.0          0.0               0.0   \n",
       "CheungYanYi           2.0                0.0          0.0               0.0   \n",
       "\n",
       "type          PushEvent  WatchEvent  \n",
       "users                                \n",
       "hupili             43.0        21.0  \n",
       "ivyWANG958         52.0        15.0  \n",
       "Felicity2724      161.0         2.0  \n",
       "ericachinn        145.0         1.0  \n",
       "CheungYanYi       110.0         0.0  "
      ]
     },
     "execution_count": 58,
     "metadata": {},
     "output_type": "execute_result"
    }
   ],
   "source": [
    "pt_user_event.sort_values(by='WatchEvent', ascending=False)[:5]"
   ]
  },
  {
   "cell_type": "code",
   "execution_count": null,
   "metadata": {},
   "outputs": [],
   "source": []
  }
 ],
 "metadata": {
  "kernelspec": {
   "display_name": "Python 3",
   "language": "python",
   "name": "python3"
  },
  "language_info": {
   "codemirror_mode": {
    "name": "ipython",
    "version": 3
   },
   "file_extension": ".py",
   "mimetype": "text/x-python",
   "name": "python",
   "nbconvert_exporter": "python",
   "pygments_lexer": "ipython3",
   "version": "3.7.0"
  }
 },
 "nbformat": 4,
 "nbformat_minor": 2
}
